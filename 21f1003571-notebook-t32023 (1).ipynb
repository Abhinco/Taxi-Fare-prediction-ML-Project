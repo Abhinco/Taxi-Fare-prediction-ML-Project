{
 "cells": [
  {
   "cell_type": "code",
   "execution_count": 1,
   "id": "a8d562b8",
   "metadata": {
    "_cell_guid": "b1076dfc-b9ad-4769-8c92-a6c4dae69d19",
    "_uuid": "8f2839f25d086af736a60e9eeb907d3b93b6e0e5",
    "execution": {
     "iopub.execute_input": "2023-12-05T09:47:00.536130Z",
     "iopub.status.busy": "2023-12-05T09:47:00.535107Z",
     "iopub.status.idle": "2023-12-05T09:47:01.602448Z",
     "shell.execute_reply": "2023-12-05T09:47:01.601148Z"
    },
    "papermill": {
     "duration": 1.092508,
     "end_time": "2023-12-05T09:47:01.605272",
     "exception": false,
     "start_time": "2023-12-05T09:47:00.512764",
     "status": "completed"
    },
    "tags": []
   },
   "outputs": [
    {
     "name": "stdout",
     "output_type": "stream",
     "text": [
      "/kaggle/input/taxi-fare-guru-total-amount-prediction-challenge/sample.csv.csv\n",
      "/kaggle/input/taxi-fare-guru-total-amount-prediction-challenge/train.csv\n",
      "/kaggle/input/taxi-fare-guru-total-amount-prediction-challenge/test.csv\n"
     ]
    }
   ],
   "source": [
    "# This Python 3 environment comes with many helpful analytics libraries installed\n",
    "# It is defined by the kaggle/python Docker image: https://github.com/kaggle/docker-python\n",
    "# For example, here's several helpful packages to load\n",
    "\n",
    "import numpy as np # linear algebra\n",
    "import pandas as pd # data processing, CSV file I/O (e.g. pd.read_csv)\n",
    "\n",
    "# Input data files are available in the read-only \"../input/\" directory\n",
    "# For example, running this (by clicking run or pressing Shift+Enter) will list all files under the input directory\n",
    "\n",
    "import os\n",
    "for dirname, _, filenames in os.walk('/kaggle/input'):\n",
    "    for filename in filenames:\n",
    "        print(os.path.join(dirname, filename))\n",
    "\n",
    "# You can write up to 20GB to the current directory (/kaggle/working/) that gets preserved as output when you create a version using \"Save & Run All\" \n",
    "# You can also write temporary files to /kaggle/temp/, but they won't be saved outside of the current session"
   ]
  },
  {
   "cell_type": "code",
   "execution_count": 2,
   "id": "a7b0f558",
   "metadata": {
    "execution": {
     "iopub.execute_input": "2023-12-05T09:47:01.646310Z",
     "iopub.status.busy": "2023-12-05T09:47:01.645768Z",
     "iopub.status.idle": "2023-12-05T09:47:04.918023Z",
     "shell.execute_reply": "2023-12-05T09:47:04.916719Z"
    },
    "papermill": {
     "duration": 3.296075,
     "end_time": "2023-12-05T09:47:04.920936",
     "exception": false,
     "start_time": "2023-12-05T09:47:01.624861",
     "status": "completed"
    },
    "tags": []
   },
   "outputs": [],
   "source": [
    "import seaborn as sns\n",
    "import matplotlib.pyplot as plt\n",
    "import pandas as pd\n",
    "from sklearn.model_selection import train_test_split\n",
    "from sklearn.dummy import DummyRegressor\n",
    "from sklearn.metrics import mean_squared_error, mean_absolute_error, r2_score\n",
    "\n",
    "# Load your dataset (replace 'your_dataset.csv' with the actual filename)\n",
    "df = pd.read_csv('/kaggle/input/taxi-fare-guru-total-amount-prediction-challenge/train.csv')\n",
    "dt= pd.read_csv('/kaggle/input/taxi-fare-guru-total-amount-prediction-challenge/test.csv')\n",
    "ds= pd.read_csv('/kaggle/input/taxi-fare-guru-total-amount-prediction-challenge/sample.csv.csv')\n",
    "# Assuming 'total_amount' is your target variable"
   ]
  },
  {
   "cell_type": "code",
   "execution_count": 3,
   "id": "0729b620",
   "metadata": {
    "execution": {
     "iopub.execute_input": "2023-12-05T09:47:04.960443Z",
     "iopub.status.busy": "2023-12-05T09:47:04.959997Z",
     "iopub.status.idle": "2023-12-05T09:47:05.457571Z",
     "shell.execute_reply": "2023-12-05T09:47:05.456422Z"
    },
    "papermill": {
     "duration": 0.521461,
     "end_time": "2023-12-05T09:47:05.461276",
     "exception": false,
     "start_time": "2023-12-05T09:47:04.939815",
     "status": "completed"
    },
    "tags": []
   },
   "outputs": [],
   "source": [
    "from sklearn.model_selection import train_test_split,GridSearchCV,ShuffleSplit, cross_validate\n",
    "from sklearn.preprocessing import MinMaxScaler,OneHotEncoder,OrdinalEncoder,MaxAbsScaler,PolynomialFeatures,StandardScaler,QuantileTransformer,RobustScaler\n",
    "from sklearn.linear_model import LinearRegression, SGDRegressor,Ridge,Lasso,RidgeCV,LassoCV,ElasticNetCV\n",
    "from sklearn.pipeline import Pipeline,make_pipeline\n",
    "from sklearn.feature_selection import SelectKBest, VarianceThreshold, mutual_info_regression,f_regression\n",
    "\n",
    "from sklearn.impute import SimpleImputer\n",
    "from sklearn.metrics import mean_squared_error,accuracy_score,r2_score,explained_variance_score,mean_absolute_error,median_absolute_error\n",
    "from sklearn.tree import DecisionTreeRegressor,ExtraTreeRegressor\n",
    "from sklearn.ensemble import RandomForestRegressor,BaggingRegressor,AdaBoostRegressor,HistGradientBoostingRegressor,StackingRegressor,ExtraTreesRegressor,VotingRegressor"
   ]
  },
  {
   "cell_type": "markdown",
   "id": "6219abf8",
   "metadata": {
    "papermill": {
     "duration": 0.017957,
     "end_time": "2023-12-05T09:47:05.498205",
     "exception": false,
     "start_time": "2023-12-05T09:47:05.480248",
     "status": "completed"
    },
    "tags": []
   },
   "source": [
    "**DATA PREPROCESSING**"
   ]
  },
  {
   "cell_type": "code",
   "execution_count": 4,
   "id": "78a80418",
   "metadata": {
    "execution": {
     "iopub.execute_input": "2023-12-05T09:47:05.537148Z",
     "iopub.status.busy": "2023-12-05T09:47:05.536747Z",
     "iopub.status.idle": "2023-12-05T09:47:05.579544Z",
     "shell.execute_reply": "2023-12-05T09:47:05.578250Z"
    },
    "papermill": {
     "duration": 0.066011,
     "end_time": "2023-12-05T09:47:05.582537",
     "exception": false,
     "start_time": "2023-12-05T09:47:05.516526",
     "status": "completed"
    },
    "tags": []
   },
   "outputs": [
    {
     "data": {
      "text/html": [
       "<div>\n",
       "<style scoped>\n",
       "    .dataframe tbody tr th:only-of-type {\n",
       "        vertical-align: middle;\n",
       "    }\n",
       "\n",
       "    .dataframe tbody tr th {\n",
       "        vertical-align: top;\n",
       "    }\n",
       "\n",
       "    .dataframe thead th {\n",
       "        text-align: right;\n",
       "    }\n",
       "</style>\n",
       "<table border=\"1\" class=\"dataframe\">\n",
       "  <thead>\n",
       "    <tr style=\"text-align: right;\">\n",
       "      <th></th>\n",
       "      <th>VendorID</th>\n",
       "      <th>tpep_pickup_datetime</th>\n",
       "      <th>tpep_dropoff_datetime</th>\n",
       "      <th>passenger_count</th>\n",
       "      <th>trip_distance</th>\n",
       "      <th>RatecodeID</th>\n",
       "      <th>store_and_fwd_flag</th>\n",
       "      <th>PULocationID</th>\n",
       "      <th>DOLocationID</th>\n",
       "      <th>payment_type</th>\n",
       "      <th>extra</th>\n",
       "      <th>tip_amount</th>\n",
       "      <th>tolls_amount</th>\n",
       "      <th>improvement_surcharge</th>\n",
       "      <th>total_amount</th>\n",
       "      <th>congestion_surcharge</th>\n",
       "      <th>Airport_fee</th>\n",
       "    </tr>\n",
       "  </thead>\n",
       "  <tbody>\n",
       "    <tr>\n",
       "      <th>0</th>\n",
       "      <td>1</td>\n",
       "      <td>2023-06-28 17:20:21</td>\n",
       "      <td>2023-06-28 16:34:45</td>\n",
       "      <td>1.0</td>\n",
       "      <td>2.14</td>\n",
       "      <td>1.0</td>\n",
       "      <td>N</td>\n",
       "      <td>120</td>\n",
       "      <td>9</td>\n",
       "      <td>Credit Card</td>\n",
       "      <td>2.5</td>\n",
       "      <td>7.165589</td>\n",
       "      <td>0.0</td>\n",
       "      <td>1.0</td>\n",
       "      <td>20.64</td>\n",
       "      <td>2.5</td>\n",
       "      <td>0.0</td>\n",
       "    </tr>\n",
       "    <tr>\n",
       "      <th>1</th>\n",
       "      <td>0</td>\n",
       "      <td>2023-06-29 23:05:01</td>\n",
       "      <td>2023-06-29 22:01:35</td>\n",
       "      <td>1.0</td>\n",
       "      <td>2.70</td>\n",
       "      <td>1.0</td>\n",
       "      <td>N</td>\n",
       "      <td>15</td>\n",
       "      <td>215</td>\n",
       "      <td>Credit Card</td>\n",
       "      <td>3.5</td>\n",
       "      <td>6.067401</td>\n",
       "      <td>0.0</td>\n",
       "      <td>1.0</td>\n",
       "      <td>25.55</td>\n",
       "      <td>2.5</td>\n",
       "      <td>0.0</td>\n",
       "    </tr>\n",
       "    <tr>\n",
       "      <th>2</th>\n",
       "      <td>1</td>\n",
       "      <td>2023-06-30 10:19:31</td>\n",
       "      <td>2023-06-30 11:13:10</td>\n",
       "      <td>1.0</td>\n",
       "      <td>1.15</td>\n",
       "      <td>1.0</td>\n",
       "      <td>N</td>\n",
       "      <td>167</td>\n",
       "      <td>223</td>\n",
       "      <td>Credit Card</td>\n",
       "      <td>0.0</td>\n",
       "      <td>4.111547</td>\n",
       "      <td>0.0</td>\n",
       "      <td>1.0</td>\n",
       "      <td>17.64</td>\n",
       "      <td>2.5</td>\n",
       "      <td>0.0</td>\n",
       "    </tr>\n",
       "    <tr>\n",
       "      <th>3</th>\n",
       "      <td>0</td>\n",
       "      <td>2023-06-29 13:23:09</td>\n",
       "      <td>2023-06-29 14:20:01</td>\n",
       "      <td>1.0</td>\n",
       "      <td>0.40</td>\n",
       "      <td>1.0</td>\n",
       "      <td>N</td>\n",
       "      <td>128</td>\n",
       "      <td>239</td>\n",
       "      <td>Credit Card</td>\n",
       "      <td>2.5</td>\n",
       "      <td>6.411079</td>\n",
       "      <td>0.0</td>\n",
       "      <td>1.0</td>\n",
       "      <td>12.80</td>\n",
       "      <td>2.5</td>\n",
       "      <td>0.0</td>\n",
       "    </tr>\n",
       "    <tr>\n",
       "      <th>4</th>\n",
       "      <td>1</td>\n",
       "      <td>2023-06-29 22:03:32</td>\n",
       "      <td>2023-06-29 22:22:22</td>\n",
       "      <td>3.0</td>\n",
       "      <td>1.10</td>\n",
       "      <td>1.0</td>\n",
       "      <td>N</td>\n",
       "      <td>203</td>\n",
       "      <td>52</td>\n",
       "      <td>Credit Card</td>\n",
       "      <td>1.0</td>\n",
       "      <td>4.769377</td>\n",
       "      <td>0.0</td>\n",
       "      <td>1.0</td>\n",
       "      <td>18.00</td>\n",
       "      <td>2.5</td>\n",
       "      <td>0.0</td>\n",
       "    </tr>\n",
       "  </tbody>\n",
       "</table>\n",
       "</div>"
      ],
      "text/plain": [
       "   VendorID tpep_pickup_datetime tpep_dropoff_datetime  passenger_count  \\\n",
       "0         1  2023-06-28 17:20:21   2023-06-28 16:34:45              1.0   \n",
       "1         0  2023-06-29 23:05:01   2023-06-29 22:01:35              1.0   \n",
       "2         1  2023-06-30 10:19:31   2023-06-30 11:13:10              1.0   \n",
       "3         0  2023-06-29 13:23:09   2023-06-29 14:20:01              1.0   \n",
       "4         1  2023-06-29 22:03:32   2023-06-29 22:22:22              3.0   \n",
       "\n",
       "   trip_distance  RatecodeID store_and_fwd_flag  PULocationID  DOLocationID  \\\n",
       "0           2.14         1.0                  N           120             9   \n",
       "1           2.70         1.0                  N            15           215   \n",
       "2           1.15         1.0                  N           167           223   \n",
       "3           0.40         1.0                  N           128           239   \n",
       "4           1.10         1.0                  N           203            52   \n",
       "\n",
       "  payment_type  extra  tip_amount  tolls_amount  improvement_surcharge  \\\n",
       "0  Credit Card    2.5    7.165589           0.0                    1.0   \n",
       "1  Credit Card    3.5    6.067401           0.0                    1.0   \n",
       "2  Credit Card    0.0    4.111547           0.0                    1.0   \n",
       "3  Credit Card    2.5    6.411079           0.0                    1.0   \n",
       "4  Credit Card    1.0    4.769377           0.0                    1.0   \n",
       "\n",
       "   total_amount  congestion_surcharge  Airport_fee  \n",
       "0         20.64                   2.5          0.0  \n",
       "1         25.55                   2.5          0.0  \n",
       "2         17.64                   2.5          0.0  \n",
       "3         12.80                   2.5          0.0  \n",
       "4         18.00                   2.5          0.0  "
      ]
     },
     "execution_count": 4,
     "metadata": {},
     "output_type": "execute_result"
    }
   ],
   "source": [
    "df.head()"
   ]
  },
  {
   "cell_type": "code",
   "execution_count": 5,
   "id": "fe33ea20",
   "metadata": {
    "execution": {
     "iopub.execute_input": "2023-12-05T09:47:05.623798Z",
     "iopub.status.busy": "2023-12-05T09:47:05.623416Z",
     "iopub.status.idle": "2023-12-05T09:47:05.629620Z",
     "shell.execute_reply": "2023-12-05T09:47:05.628842Z"
    },
    "papermill": {
     "duration": 0.030319,
     "end_time": "2023-12-05T09:47:05.632225",
     "exception": false,
     "start_time": "2023-12-05T09:47:05.601906",
     "status": "completed"
    },
    "tags": []
   },
   "outputs": [
    {
     "data": {
      "text/plain": [
       "(50000, 16)"
      ]
     },
     "execution_count": 5,
     "metadata": {},
     "output_type": "execute_result"
    }
   ],
   "source": [
    "dt.shape"
   ]
  },
  {
   "cell_type": "code",
   "execution_count": 6,
   "id": "738303f1",
   "metadata": {
    "execution": {
     "iopub.execute_input": "2023-12-05T09:47:05.673795Z",
     "iopub.status.busy": "2023-12-05T09:47:05.673364Z",
     "iopub.status.idle": "2023-12-05T09:47:05.682643Z",
     "shell.execute_reply": "2023-12-05T09:47:05.681638Z"
    },
    "papermill": {
     "duration": 0.032805,
     "end_time": "2023-12-05T09:47:05.685070",
     "exception": false,
     "start_time": "2023-12-05T09:47:05.652265",
     "status": "completed"
    },
    "tags": []
   },
   "outputs": [
    {
     "data": {
      "text/plain": [
       "VendorID                   int64\n",
       "tpep_pickup_datetime      object\n",
       "tpep_dropoff_datetime     object\n",
       "passenger_count          float64\n",
       "trip_distance            float64\n",
       "RatecodeID               float64\n",
       "store_and_fwd_flag        object\n",
       "PULocationID               int64\n",
       "DOLocationID               int64\n",
       "payment_type              object\n",
       "extra                    float64\n",
       "tip_amount               float64\n",
       "tolls_amount             float64\n",
       "improvement_surcharge    float64\n",
       "congestion_surcharge     float64\n",
       "Airport_fee              float64\n",
       "dtype: object"
      ]
     },
     "execution_count": 6,
     "metadata": {},
     "output_type": "execute_result"
    }
   ],
   "source": [
    "dt.dtypes"
   ]
  },
  {
   "cell_type": "code",
   "execution_count": 7,
   "id": "5c9c4e59",
   "metadata": {
    "execution": {
     "iopub.execute_input": "2023-12-05T09:47:05.725623Z",
     "iopub.status.busy": "2023-12-05T09:47:05.725169Z",
     "iopub.status.idle": "2023-12-05T09:47:05.760777Z",
     "shell.execute_reply": "2023-12-05T09:47:05.759621Z"
    },
    "papermill": {
     "duration": 0.059197,
     "end_time": "2023-12-05T09:47:05.763586",
     "exception": false,
     "start_time": "2023-12-05T09:47:05.704389",
     "status": "completed"
    },
    "tags": []
   },
   "outputs": [
    {
     "data": {
      "text/plain": [
       "VendorID                    0\n",
       "tpep_pickup_datetime        0\n",
       "tpep_dropoff_datetime       0\n",
       "passenger_count          1779\n",
       "trip_distance               0\n",
       "RatecodeID               1779\n",
       "store_and_fwd_flag       1779\n",
       "PULocationID                0\n",
       "DOLocationID                0\n",
       "payment_type                0\n",
       "extra                       0\n",
       "tip_amount                  0\n",
       "tolls_amount                0\n",
       "improvement_surcharge       0\n",
       "congestion_surcharge     1779\n",
       "Airport_fee              1779\n",
       "dtype: int64"
      ]
     },
     "execution_count": 7,
     "metadata": {},
     "output_type": "execute_result"
    }
   ],
   "source": [
    "dt.isnull().sum()"
   ]
  },
  {
   "cell_type": "code",
   "execution_count": 8,
   "id": "4666d174",
   "metadata": {
    "execution": {
     "iopub.execute_input": "2023-12-05T09:47:05.804301Z",
     "iopub.status.busy": "2023-12-05T09:47:05.803891Z",
     "iopub.status.idle": "2023-12-05T09:47:05.888171Z",
     "shell.execute_reply": "2023-12-05T09:47:05.887017Z"
    },
    "papermill": {
     "duration": 0.107685,
     "end_time": "2023-12-05T09:47:05.890916",
     "exception": false,
     "start_time": "2023-12-05T09:47:05.783231",
     "status": "completed"
    },
    "tags": []
   },
   "outputs": [
    {
     "data": {
      "text/plain": [
       "VendorID                    0\n",
       "tpep_pickup_datetime        0\n",
       "tpep_dropoff_datetime       0\n",
       "passenger_count          6077\n",
       "trip_distance               0\n",
       "RatecodeID               6077\n",
       "store_and_fwd_flag       6077\n",
       "PULocationID                0\n",
       "DOLocationID                0\n",
       "payment_type                0\n",
       "extra                       0\n",
       "tip_amount                  0\n",
       "tolls_amount                0\n",
       "improvement_surcharge       0\n",
       "total_amount                0\n",
       "congestion_surcharge     6077\n",
       "Airport_fee              6077\n",
       "dtype: int64"
      ]
     },
     "execution_count": 8,
     "metadata": {},
     "output_type": "execute_result"
    }
   ],
   "source": [
    "df.isnull().sum()"
   ]
  },
  {
   "cell_type": "code",
   "execution_count": 9,
   "id": "7c90cdf9",
   "metadata": {
    "execution": {
     "iopub.execute_input": "2023-12-05T09:47:05.933206Z",
     "iopub.status.busy": "2023-12-05T09:47:05.932805Z",
     "iopub.status.idle": "2023-12-05T09:47:09.500683Z",
     "shell.execute_reply": "2023-12-05T09:47:09.499422Z"
    },
    "papermill": {
     "duration": 3.592607,
     "end_time": "2023-12-05T09:47:09.503983",
     "exception": false,
     "start_time": "2023-12-05T09:47:05.911376",
     "status": "completed"
    },
    "tags": []
   },
   "outputs": [
    {
     "data": {
      "image/png": "[encoded data removed]",
      "text/plain": [
       "<Figure size 1600x1000 with 16 Axes>"
      ]
     },
     "metadata": {},
     "output_type": "display_data"
    }
   ],
   "source": [
    "df.hist(bins = 50, edgecolor = 'blue', figsize=(16,10))\n",
    "plt.subplots_adjust(hspace = 0.5,wspace = 0.3)\n",
    "plt.show()"
   ]
  },
  {
   "cell_type": "code",
   "execution_count": 10,
   "id": "f30af7f8",
   "metadata": {
    "execution": {
     "iopub.execute_input": "2023-12-05T09:47:09.549967Z",
     "iopub.status.busy": "2023-12-05T09:47:09.548633Z",
     "iopub.status.idle": "2023-12-05T09:47:11.497757Z",
     "shell.execute_reply": "2023-12-05T09:47:11.496400Z"
    },
    "papermill": {
     "duration": 1.975154,
     "end_time": "2023-12-05T09:47:11.500595",
     "exception": false,
     "start_time": "2023-12-05T09:47:09.525441",
     "status": "completed"
    },
    "tags": []
   },
   "outputs": [
    {
     "name": "stderr",
     "output_type": "stream",
     "text": [
      "/opt/conda/lib/python3.10/site-packages/seaborn/axisgrid.py:118: UserWarning: The figure layout has changed to tight\n",
      "  self._figure.tight_layout(*args, **kwargs)\n",
      "/opt/conda/lib/python3.10/site-packages/seaborn/axisgrid.py:118: UserWarning: The figure layout has changed to tight\n",
      "  self._figure.tight_layout(*args, **kwargs)\n"
     ]
    },
    {
     "data": {
      "text/plain": [
       "<seaborn.axisgrid.FacetGrid at 0x7ae1d5a4a140>"
      ]
     },
     "execution_count": 10,
     "metadata": {},
     "output_type": "execute_result"
    },
    {
     "data": {
      "image/png": "[encoded data removed]",
      "text/plain": [
       "<Figure size 500x500 with 1 Axes>"
      ]
     },
     "metadata": {},
     "output_type": "display_data"
    },
    {
     "data": {
      "image/png": "[encoded data removed]",
      "text/plain": [
       "<Figure size 500x500 with 1 Axes>"
      ]
     },
     "metadata": {},
     "output_type": "display_data"
    }
   ],
   "source": [
    "sns.catplot(data=df, x='store_and_fwd_flag', kind='count', palette='Set1')\n",
    "sns.catplot(data=df, x='payment_type', kind='count',palette='Set2')"
   ]
  },
  {
   "cell_type": "code",
   "execution_count": 11,
   "id": "a20d92f5",
   "metadata": {
    "execution": {
     "iopub.execute_input": "2023-12-05T09:47:11.614453Z",
     "iopub.status.busy": "2023-12-05T09:47:11.613992Z",
     "iopub.status.idle": "2023-12-05T09:47:13.839048Z",
     "shell.execute_reply": "2023-12-05T09:47:13.838151Z"
    },
    "papermill": {
     "duration": 2.251751,
     "end_time": "2023-12-05T09:47:13.841395",
     "exception": false,
     "start_time": "2023-12-05T09:47:11.589644",
     "status": "completed"
    },
    "tags": []
   },
   "outputs": [
    {
     "data": {
      "image/png": "[encoded data removed]",
      "text/plain": [
       "<Figure size 1600x1000 with 13 Axes>"
      ]
     },
     "metadata": {},
     "output_type": "display_data"
    }
   ],
   "source": [
    "df.plot(kind='box',sharey = False, subplots=True, color='orange',figsize=(16,10),patch_artist=True,return_type='both')\n",
    "plt.subplots_adjust(wspace = 3)\n",
    "plt.show()"
   ]
  },
  {
   "cell_type": "code",
   "execution_count": 12,
   "id": "71c392ed",
   "metadata": {
    "execution": {
     "iopub.execute_input": "2023-12-05T09:47:13.893303Z",
     "iopub.status.busy": "2023-12-05T09:47:13.892149Z",
     "iopub.status.idle": "2023-12-05T09:47:15.362588Z",
     "shell.execute_reply": "2023-12-05T09:47:15.361411Z"
    },
    "papermill": {
     "duration": 1.499281,
     "end_time": "2023-12-05T09:47:15.365406",
     "exception": false,
     "start_time": "2023-12-05T09:47:13.866125",
     "status": "completed"
    },
    "tags": []
   },
   "outputs": [
    {
     "name": "stderr",
     "output_type": "stream",
     "text": [
      "/tmp/ipykernel_21/1963203413.py:3: UserWarning: \n",
      "\n",
      "`distplot` is a deprecated function and will be removed in seaborn v0.14.0.\n",
      "\n",
      "Please adapt your code to use either `displot` (a figure-level function with\n",
      "similar flexibility) or `histplot` (an axes-level function for histograms).\n",
      "\n",
      "For a guide to updating your code to use the new functions, please see\n",
      "https://gist.github.com/mwaskom/de44147ed2974457ad6372750bbe5751\n",
      "\n",
      "  sns.distplot(df.total_amount, bins = 200, color = 'firebrick', ax = ax)\n"
     ]
    },
    {
     "data": {
      "image/png": "[encoded data removed]",
      "text/plain": [
       "<Figure size 1400x600 with 1 Axes>"
      ]
     },
     "metadata": {},
     "output_type": "display_data"
    }
   ],
   "source": [
    "\n",
    "# Distrubution of target variable with skewness\n",
    "fig, ax = plt.subplots(figsize = (14,6))\n",
    "sns.distplot(df.total_amount, bins = 200, color = 'firebrick', ax = ax)\n",
    "ax.set_title('Distribution of fare_amount (skewness: {:0.5})'.format(df.total_amount.skew()))\n",
    "ax.set_ylabel('realtive frequency')\n",
    "plt.show()"
   ]
  },
  {
   "cell_type": "code",
   "execution_count": 13,
   "id": "b4fef453",
   "metadata": {
    "execution": {
     "iopub.execute_input": "2023-12-05T09:47:15.420232Z",
     "iopub.status.busy": "2023-12-05T09:47:15.419686Z",
     "iopub.status.idle": "2023-12-05T09:47:15.628226Z",
     "shell.execute_reply": "2023-12-05T09:47:15.627047Z"
    },
    "papermill": {
     "duration": 0.240179,
     "end_time": "2023-12-05T09:47:15.632326",
     "exception": false,
     "start_time": "2023-12-05T09:47:15.392147",
     "status": "completed"
    },
    "tags": []
   },
   "outputs": [
    {
     "name": "stderr",
     "output_type": "stream",
     "text": [
      "/tmp/ipykernel_21/67776436.py:1: UserWarning: The argument 'infer_datetime_format' is deprecated and will be removed in a future version. A strict version of it is now the default, see https://pandas.pydata.org/pdeps/0004-consistent-to-datetime-parsing.html. You can safely remove this argument.\n",
      "  df['tpep_pickup_datetime'] = pd.to_datetime(df['tpep_pickup_datetime'], infer_datetime_format=True)\n",
      "/tmp/ipykernel_21/67776436.py:2: UserWarning: The argument 'infer_datetime_format' is deprecated and will be removed in a future version. A strict version of it is now the default, see https://pandas.pydata.org/pdeps/0004-consistent-to-datetime-parsing.html. You can safely remove this argument.\n",
      "  dt['tpep_pickup_datetime'] = pd.to_datetime(dt['tpep_pickup_datetime'], infer_datetime_format=True)\n",
      "/tmp/ipykernel_21/67776436.py:3: UserWarning: The argument 'infer_datetime_format' is deprecated and will be removed in a future version. A strict version of it is now the default, see https://pandas.pydata.org/pdeps/0004-consistent-to-datetime-parsing.html. You can safely remove this argument.\n",
      "  df['tpep_dropoff_datetime'] = pd.to_datetime(df['tpep_dropoff_datetime'], infer_datetime_format=True)\n",
      "/tmp/ipykernel_21/67776436.py:4: UserWarning: The argument 'infer_datetime_format' is deprecated and will be removed in a future version. A strict version of it is now the default, see https://pandas.pydata.org/pdeps/0004-consistent-to-datetime-parsing.html. You can safely remove this argument.\n",
      "  dt['tpep_dropoff_datetime'] = pd.to_datetime(dt['tpep_dropoff_datetime'], infer_datetime_format=True)\n"
     ]
    }
   ],
   "source": [
    "df['tpep_pickup_datetime'] = pd.to_datetime(df['tpep_pickup_datetime'], infer_datetime_format=True)\n",
    "dt['tpep_pickup_datetime'] = pd.to_datetime(dt['tpep_pickup_datetime'], infer_datetime_format=True)\n",
    "df['tpep_dropoff_datetime'] = pd.to_datetime(df['tpep_dropoff_datetime'], infer_datetime_format=True)\n",
    "dt['tpep_dropoff_datetime'] = pd.to_datetime(dt['tpep_dropoff_datetime'], infer_datetime_format=True)"
   ]
  },
  {
   "cell_type": "code",
   "execution_count": 14,
   "id": "3e96705c",
   "metadata": {
    "execution": {
     "iopub.execute_input": "2023-12-05T09:47:15.684197Z",
     "iopub.status.busy": "2023-12-05T09:47:15.683463Z",
     "iopub.status.idle": "2023-12-05T09:47:15.696574Z",
     "shell.execute_reply": "2023-12-05T09:47:15.695231Z"
    },
    "papermill": {
     "duration": 0.042312,
     "end_time": "2023-12-05T09:47:15.699373",
     "exception": false,
     "start_time": "2023-12-05T09:47:15.657061",
     "status": "completed"
    },
    "tags": []
   },
   "outputs": [],
   "source": [
    "df['time_difference_minutes'] = (df['tpep_dropoff_datetime'] - df['tpep_pickup_datetime']).dt.total_seconds().abs()\n",
    "dt['time_difference_minutes'] = (dt['tpep_dropoff_datetime'] - dt['tpep_pickup_datetime']).dt.total_seconds().abs()"
   ]
  },
  {
   "cell_type": "code",
   "execution_count": 15,
   "id": "9b5cc9af",
   "metadata": {
    "execution": {
     "iopub.execute_input": "2023-12-05T09:47:15.752201Z",
     "iopub.status.busy": "2023-12-05T09:47:15.751771Z",
     "iopub.status.idle": "2023-12-05T09:47:15.772360Z",
     "shell.execute_reply": "2023-12-05T09:47:15.770911Z"
    },
    "papermill": {
     "duration": 0.050811,
     "end_time": "2023-12-05T09:47:15.775229",
     "exception": false,
     "start_time": "2023-12-05T09:47:15.724418",
     "status": "completed"
    },
    "tags": []
   },
   "outputs": [],
   "source": [
    "columns_to_drop = ['tpep_pickup_datetime' ,'tpep_dropoff_datetime' ,'store_and_fwd_flag']\n",
    "df = df.drop(columns=columns_to_drop)\n",
    "dt=dt.drop(columns=columns_to_drop)"
   ]
  },
  {
   "cell_type": "code",
   "execution_count": 16,
   "id": "fc394148",
   "metadata": {
    "execution": {
     "iopub.execute_input": "2023-12-05T09:47:15.827635Z",
     "iopub.status.busy": "2023-12-05T09:47:15.826933Z",
     "iopub.status.idle": "2023-12-05T09:47:15.839202Z",
     "shell.execute_reply": "2023-12-05T09:47:15.837878Z"
    },
    "papermill": {
     "duration": 0.041405,
     "end_time": "2023-12-05T09:47:15.841947",
     "exception": false,
     "start_time": "2023-12-05T09:47:15.800542",
     "status": "completed"
    },
    "tags": []
   },
   "outputs": [],
   "source": [
    "df['passenger_count'].fillna(df['passenger_count'].median() ,inplace=True)\n",
    "dt['passenger_count'].fillna(dt['passenger_count'].median() ,inplace=True)"
   ]
  },
  {
   "cell_type": "code",
   "execution_count": 17,
   "id": "191f0bdf",
   "metadata": {
    "execution": {
     "iopub.execute_input": "2023-12-05T09:47:15.894381Z",
     "iopub.status.busy": "2023-12-05T09:47:15.893881Z",
     "iopub.status.idle": "2023-12-05T09:47:15.914815Z",
     "shell.execute_reply": "2023-12-05T09:47:15.913285Z"
    },
    "papermill": {
     "duration": 0.050844,
     "end_time": "2023-12-05T09:47:15.917721",
     "exception": false,
     "start_time": "2023-12-05T09:47:15.866877",
     "status": "completed"
    },
    "tags": []
   },
   "outputs": [],
   "source": [
    "df['congestion_surcharge'].fillna(df['congestion_surcharge'].median(),inplace=True)\n",
    "dt['congestion_surcharge'].fillna(dt['congestion_surcharge'].median() ,inplace=True)\n",
    "df['Airport_fee'].fillna( 0,inplace=True)\n",
    "dt['Airport_fee'].fillna(0 ,inplace=True)\n",
    "df['RatecodeID'].fillna(df['RatecodeID'].median(),inplace=True)\n",
    "dt['RatecodeID'].fillna(dt['RatecodeID'].median() ,inplace=True)"
   ]
  },
  {
   "cell_type": "markdown",
   "id": "34e105e5",
   "metadata": {
    "papermill": {
     "duration": 0.025015,
     "end_time": "2023-12-05T09:47:15.969771",
     "exception": false,
     "start_time": "2023-12-05T09:47:15.944756",
     "status": "completed"
    },
    "tags": []
   },
   "source": [
    "**Encoding of Categorical Variable**"
   ]
  },
  {
   "cell_type": "code",
   "execution_count": 18,
   "id": "94b14595",
   "metadata": {
    "execution": {
     "iopub.execute_input": "2023-12-05T09:47:16.023463Z",
     "iopub.status.busy": "2023-12-05T09:47:16.022999Z",
     "iopub.status.idle": "2023-12-05T09:47:16.162990Z",
     "shell.execute_reply": "2023-12-05T09:47:16.161553Z"
    },
    "papermill": {
     "duration": 0.170703,
     "end_time": "2023-12-05T09:47:16.166072",
     "exception": false,
     "start_time": "2023-12-05T09:47:15.995369",
     "status": "completed"
    },
    "tags": []
   },
   "outputs": [
    {
     "name": "stderr",
     "output_type": "stream",
     "text": [
      "/opt/conda/lib/python3.10/site-packages/sklearn/preprocessing/_encoders.py:868: FutureWarning: `sparse` was renamed to `sparse_output` in version 1.2 and will be removed in 1.4. `sparse_output` is ignored unless you leave `sparse` to its default value.\n",
      "  warnings.warn(\n",
      "/opt/conda/lib/python3.10/site-packages/sklearn/preprocessing/_encoders.py:868: FutureWarning: `sparse` was renamed to `sparse_output` in version 1.2 and will be removed in 1.4. `sparse_output` is ignored unless you leave `sparse` to its default value.\n",
      "  warnings.warn(\n"
     ]
    },
    {
     "data": {
      "text/html": [
       "<div>\n",
       "<style scoped>\n",
       "    .dataframe tbody tr th:only-of-type {\n",
       "        vertical-align: middle;\n",
       "    }\n",
       "\n",
       "    .dataframe tbody tr th {\n",
       "        vertical-align: top;\n",
       "    }\n",
       "\n",
       "    .dataframe thead th {\n",
       "        text-align: right;\n",
       "    }\n",
       "</style>\n",
       "<table border=\"1\" class=\"dataframe\">\n",
       "  <thead>\n",
       "    <tr style=\"text-align: right;\">\n",
       "      <th></th>\n",
       "      <th>payment_type_Cash</th>\n",
       "      <th>payment_type_Credit Card</th>\n",
       "      <th>payment_type_UPI</th>\n",
       "      <th>payment_type_Wallet</th>\n",
       "      <th>payment_type_unknown</th>\n",
       "    </tr>\n",
       "  </thead>\n",
       "  <tbody>\n",
       "    <tr>\n",
       "      <th>0</th>\n",
       "      <td>0.0</td>\n",
       "      <td>1.0</td>\n",
       "      <td>0.0</td>\n",
       "      <td>0.0</td>\n",
       "      <td>0.0</td>\n",
       "    </tr>\n",
       "    <tr>\n",
       "      <th>1</th>\n",
       "      <td>0.0</td>\n",
       "      <td>1.0</td>\n",
       "      <td>0.0</td>\n",
       "      <td>0.0</td>\n",
       "      <td>0.0</td>\n",
       "    </tr>\n",
       "    <tr>\n",
       "      <th>2</th>\n",
       "      <td>0.0</td>\n",
       "      <td>1.0</td>\n",
       "      <td>0.0</td>\n",
       "      <td>0.0</td>\n",
       "      <td>0.0</td>\n",
       "    </tr>\n",
       "    <tr>\n",
       "      <th>3</th>\n",
       "      <td>0.0</td>\n",
       "      <td>1.0</td>\n",
       "      <td>0.0</td>\n",
       "      <td>0.0</td>\n",
       "      <td>0.0</td>\n",
       "    </tr>\n",
       "    <tr>\n",
       "      <th>4</th>\n",
       "      <td>0.0</td>\n",
       "      <td>1.0</td>\n",
       "      <td>0.0</td>\n",
       "      <td>0.0</td>\n",
       "      <td>0.0</td>\n",
       "    </tr>\n",
       "    <tr>\n",
       "      <th>...</th>\n",
       "      <td>...</td>\n",
       "      <td>...</td>\n",
       "      <td>...</td>\n",
       "      <td>...</td>\n",
       "      <td>...</td>\n",
       "    </tr>\n",
       "    <tr>\n",
       "      <th>174995</th>\n",
       "      <td>0.0</td>\n",
       "      <td>1.0</td>\n",
       "      <td>0.0</td>\n",
       "      <td>0.0</td>\n",
       "      <td>0.0</td>\n",
       "    </tr>\n",
       "    <tr>\n",
       "      <th>174996</th>\n",
       "      <td>1.0</td>\n",
       "      <td>0.0</td>\n",
       "      <td>0.0</td>\n",
       "      <td>0.0</td>\n",
       "      <td>0.0</td>\n",
       "    </tr>\n",
       "    <tr>\n",
       "      <th>174997</th>\n",
       "      <td>0.0</td>\n",
       "      <td>1.0</td>\n",
       "      <td>0.0</td>\n",
       "      <td>0.0</td>\n",
       "      <td>0.0</td>\n",
       "    </tr>\n",
       "    <tr>\n",
       "      <th>174998</th>\n",
       "      <td>0.0</td>\n",
       "      <td>1.0</td>\n",
       "      <td>0.0</td>\n",
       "      <td>0.0</td>\n",
       "      <td>0.0</td>\n",
       "    </tr>\n",
       "    <tr>\n",
       "      <th>174999</th>\n",
       "      <td>0.0</td>\n",
       "      <td>1.0</td>\n",
       "      <td>0.0</td>\n",
       "      <td>0.0</td>\n",
       "      <td>0.0</td>\n",
       "    </tr>\n",
       "  </tbody>\n",
       "</table>\n",
       "<p>175000 rows × 5 columns</p>\n",
       "</div>"
      ],
      "text/plain": [
       "        payment_type_Cash  payment_type_Credit Card  payment_type_UPI  \\\n",
       "0                     0.0                       1.0               0.0   \n",
       "1                     0.0                       1.0               0.0   \n",
       "2                     0.0                       1.0               0.0   \n",
       "3                     0.0                       1.0               0.0   \n",
       "4                     0.0                       1.0               0.0   \n",
       "...                   ...                       ...               ...   \n",
       "174995                0.0                       1.0               0.0   \n",
       "174996                1.0                       0.0               0.0   \n",
       "174997                0.0                       1.0               0.0   \n",
       "174998                0.0                       1.0               0.0   \n",
       "174999                0.0                       1.0               0.0   \n",
       "\n",
       "        payment_type_Wallet  payment_type_unknown  \n",
       "0                       0.0                   0.0  \n",
       "1                       0.0                   0.0  \n",
       "2                       0.0                   0.0  \n",
       "3                       0.0                   0.0  \n",
       "4                       0.0                   0.0  \n",
       "...                     ...                   ...  \n",
       "174995                  0.0                   0.0  \n",
       "174996                  0.0                   0.0  \n",
       "174997                  0.0                   0.0  \n",
       "174998                  0.0                   0.0  \n",
       "174999                  0.0                   0.0  \n",
       "\n",
       "[175000 rows x 5 columns]"
      ]
     },
     "execution_count": 18,
     "metadata": {},
     "output_type": "execute_result"
    }
   ],
   "source": [
    "from sklearn.preprocessing import LabelEncoder\n",
    "from sklearn.preprocessing import OneHotEncoder\n",
    "\n",
    "object_cols = df.select_dtypes(object).columns.tolist()\n",
    "\n",
    "cat_enco = OneHotEncoder(sparse=False)\n",
    "df_enco = cat_enco.fit_transform(df[object_cols])\n",
    "dt_enco = cat_enco.fit_transform(dt[object_cols])\n",
    "enco_df = pd.DataFrame(df_enco, columns=cat_enco.get_feature_names_out(object_cols))\n",
    "enco_dt = pd.DataFrame(dt_enco, columns=cat_enco.get_feature_names_out(object_cols))\n",
    "\n",
    "\n",
    "enco_df"
   ]
  },
  {
   "cell_type": "code",
   "execution_count": 19,
   "id": "f368d593",
   "metadata": {
    "execution": {
     "iopub.execute_input": "2023-12-05T09:47:16.218853Z",
     "iopub.status.busy": "2023-12-05T09:47:16.218459Z",
     "iopub.status.idle": "2023-12-05T09:47:16.243718Z",
     "shell.execute_reply": "2023-12-05T09:47:16.242415Z"
    },
    "papermill": {
     "duration": 0.055097,
     "end_time": "2023-12-05T09:47:16.246677",
     "exception": false,
     "start_time": "2023-12-05T09:47:16.191580",
     "status": "completed"
    },
    "tags": []
   },
   "outputs": [],
   "source": [
    "df = df.drop(object_cols, axis=1)\n",
    "#df =df.drop(['extra'], axis=1)\n",
    "df = pd.concat([df, enco_df], axis=1)\n",
    "dt = dt.drop(object_cols, axis=1)\n",
    "#dt =dt.drop(['extra'], axis=1)\n",
    "dt = pd.concat([dt, enco_dt], axis=1)\n"
   ]
  },
  {
   "cell_type": "code",
   "execution_count": 20,
   "id": "ecccee2a",
   "metadata": {
    "execution": {
     "iopub.execute_input": "2023-12-05T09:47:16.300689Z",
     "iopub.status.busy": "2023-12-05T09:47:16.299964Z",
     "iopub.status.idle": "2023-12-05T09:47:16.315217Z",
     "shell.execute_reply": "2023-12-05T09:47:16.313926Z"
    },
    "papermill": {
     "duration": 0.044781,
     "end_time": "2023-12-05T09:47:16.317557",
     "exception": false,
     "start_time": "2023-12-05T09:47:16.272776",
     "status": "completed"
    },
    "tags": []
   },
   "outputs": [
    {
     "data": {
      "text/plain": [
       "VendorID                    0\n",
       "passenger_count             0\n",
       "trip_distance               0\n",
       "RatecodeID                  0\n",
       "PULocationID                0\n",
       "DOLocationID                0\n",
       "extra                       0\n",
       "tip_amount                  0\n",
       "tolls_amount                0\n",
       "improvement_surcharge       0\n",
       "total_amount                0\n",
       "congestion_surcharge        0\n",
       "Airport_fee                 0\n",
       "time_difference_minutes     0\n",
       "payment_type_Cash           0\n",
       "payment_type_Credit Card    0\n",
       "payment_type_UPI            0\n",
       "payment_type_Wallet         0\n",
       "payment_type_unknown        0\n",
       "dtype: int64"
      ]
     },
     "execution_count": 20,
     "metadata": {},
     "output_type": "execute_result"
    }
   ],
   "source": [
    "df.isnull().sum()"
   ]
  },
  {
   "cell_type": "code",
   "execution_count": 21,
   "id": "a51ac6a6",
   "metadata": {
    "execution": {
     "iopub.execute_input": "2023-12-05T09:47:16.372127Z",
     "iopub.status.busy": "2023-12-05T09:47:16.371703Z",
     "iopub.status.idle": "2023-12-05T09:47:16.384413Z",
     "shell.execute_reply": "2023-12-05T09:47:16.383118Z"
    },
    "papermill": {
     "duration": 0.042811,
     "end_time": "2023-12-05T09:47:16.386783",
     "exception": false,
     "start_time": "2023-12-05T09:47:16.343972",
     "status": "completed"
    },
    "tags": []
   },
   "outputs": [],
   "source": [
    "X = df.drop(columns=['total_amount'])\n",
    "y = df['total_amount']"
   ]
  },
  {
   "cell_type": "code",
   "execution_count": 22,
   "id": "82c877a3",
   "metadata": {
    "execution": {
     "iopub.execute_input": "2023-12-05T09:47:16.441992Z",
     "iopub.status.busy": "2023-12-05T09:47:16.441597Z",
     "iopub.status.idle": "2023-12-05T09:47:16.569856Z",
     "shell.execute_reply": "2023-12-05T09:47:16.568581Z"
    },
    "papermill": {
     "duration": 0.159881,
     "end_time": "2023-12-05T09:47:16.572707",
     "exception": false,
     "start_time": "2023-12-05T09:47:16.412826",
     "status": "completed"
    },
    "tags": []
   },
   "outputs": [],
   "source": [
    "from sklearn.preprocessing import RobustScaler\n",
    "\n",
    "std_scalar = RobustScaler()\n",
    "\n",
    "data_scaled= std_scalar.fit_transform(X)\n",
    "\n",
    "X = pd.DataFrame(data_scaled , columns=X.columns)"
   ]
  },
  {
   "cell_type": "code",
   "execution_count": 23,
   "id": "2aaad427",
   "metadata": {
    "execution": {
     "iopub.execute_input": "2023-12-05T09:47:16.626442Z",
     "iopub.status.busy": "2023-12-05T09:47:16.625999Z",
     "iopub.status.idle": "2023-12-05T09:47:16.670221Z",
     "shell.execute_reply": "2023-12-05T09:47:16.668762Z"
    },
    "papermill": {
     "duration": 0.075097,
     "end_time": "2023-12-05T09:47:16.673460",
     "exception": false,
     "start_time": "2023-12-05T09:47:16.598363",
     "status": "completed"
    },
    "tags": []
   },
   "outputs": [],
   "source": [
    "data_scaleed= std_scalar.fit_transform(dt)\n",
    "\n",
    "dt= pd.DataFrame(data_scaleed , columns=dt.columns)"
   ]
  },
  {
   "cell_type": "code",
   "execution_count": 24,
   "id": "1451dc44",
   "metadata": {
    "execution": {
     "iopub.execute_input": "2023-12-05T09:47:16.728734Z",
     "iopub.status.busy": "2023-12-05T09:47:16.728269Z",
     "iopub.status.idle": "2023-12-05T09:47:16.770692Z",
     "shell.execute_reply": "2023-12-05T09:47:16.769376Z"
    },
    "papermill": {
     "duration": 0.073281,
     "end_time": "2023-12-05T09:47:16.773409",
     "exception": false,
     "start_time": "2023-12-05T09:47:16.700128",
     "status": "completed"
    },
    "tags": []
   },
   "outputs": [],
   "source": [
    "X_train , X_test , y_train , y_test = train_test_split(X ,y , test_size=0.2 , random_state=42)"
   ]
  },
  {
   "cell_type": "markdown",
   "id": "5ca12aa9",
   "metadata": {
    "papermill": {
     "duration": 0.025589,
     "end_time": "2023-12-05T09:47:16.824628",
     "exception": false,
     "start_time": "2023-12-05T09:47:16.799039",
     "status": "completed"
    },
    "tags": []
   },
   "source": [
    "**Feature Engineering**"
   ]
  },
  {
   "cell_type": "code",
   "execution_count": 25,
   "id": "f6dd696f",
   "metadata": {
    "execution": {
     "iopub.execute_input": "2023-12-05T09:47:16.879242Z",
     "iopub.status.busy": "2023-12-05T09:47:16.878002Z",
     "iopub.status.idle": "2023-12-05T09:47:17.255852Z",
     "shell.execute_reply": "2023-12-05T09:47:17.254602Z"
    },
    "papermill": {
     "duration": 0.408012,
     "end_time": "2023-12-05T09:47:17.258432",
     "exception": false,
     "start_time": "2023-12-05T09:47:16.850420",
     "status": "completed"
    },
    "tags": []
   },
   "outputs": [
    {
     "name": "stderr",
     "output_type": "stream",
     "text": [
      "/opt/conda/lib/python3.10/site-packages/sklearn/tree/_classes.py:277: FutureWarning: `max_features='auto'` has been deprecated in 1.1 and will be removed in 1.3. To keep the past behaviour, explicitly set `max_features=1.0'`.\n",
      "  warnings.warn(\n"
     ]
    }
   ],
   "source": [
    "# Apply SelectKBest\n",
    "# Choose the number of features to select\n",
    "k_features = 6\n",
    "params = {'max_depth': 10, \n",
    "         'max_features': 'auto', \n",
    "     'min_samples_leaf': 1, \n",
    "          'min_samples_split': 10}\n",
    "# Use f_regression as the scoring function (you can choose a different one based on your problem)\n",
    "select_kbest = SelectKBest(score_func=f_regression, k=k_features)\n",
    "X_train_kbest = select_kbest.fit_transform(X_train, y_train)\n",
    "X_test_kbest = select_kbest.transform(X_test)\n",
    "\n",
    "# Train a model on the selected features\n",
    "forest_reg = DecisionTreeRegressor(**params)\n",
    "forest_reg.fit(X_train_kbest, y_train)\n",
    "\n",
    "# Make predictions on the test set\n",
    "y_pred = forest_reg.predict(X_test_kbest)\n"
   ]
  },
  {
   "cell_type": "code",
   "execution_count": 26,
   "id": "4bc14a80",
   "metadata": {
    "execution": {
     "iopub.execute_input": "2023-12-05T09:47:17.314002Z",
     "iopub.status.busy": "2023-12-05T09:47:17.313125Z",
     "iopub.status.idle": "2023-12-05T09:47:17.320414Z",
     "shell.execute_reply": "2023-12-05T09:47:17.319180Z"
    },
    "papermill": {
     "duration": 0.037231,
     "end_time": "2023-12-05T09:47:17.322661",
     "exception": false,
     "start_time": "2023-12-05T09:47:17.285430",
     "status": "completed"
    },
    "tags": []
   },
   "outputs": [
    {
     "name": "stdout",
     "output_type": "stream",
     "text": [
      "Selected Features: ['extra', 'tip_amount', 'tolls_amount', 'improvement_surcharge', 'congestion_surcharge', 'Airport_fee']\n"
     ]
    }
   ],
   "source": [
    "selected_feature_indices = select_kbest.get_support(indices=True)\n",
    "selected_feature_names = X.columns[selected_feature_indices]\n",
    "print('Selected Features:', selected_feature_names.tolist())"
   ]
  },
  {
   "cell_type": "code",
   "execution_count": 27,
   "id": "b61a6372",
   "metadata": {
    "execution": {
     "iopub.execute_input": "2023-12-05T09:47:17.376576Z",
     "iopub.status.busy": "2023-12-05T09:47:17.376115Z",
     "iopub.status.idle": "2023-12-05T09:47:17.380834Z",
     "shell.execute_reply": "2023-12-05T09:47:17.379781Z"
    },
    "papermill": {
     "duration": 0.03427,
     "end_time": "2023-12-05T09:47:17.382987",
     "exception": false,
     "start_time": "2023-12-05T09:47:17.348717",
     "status": "completed"
    },
    "tags": []
   },
   "outputs": [],
   "source": [
    "#from sklearn.feature_selection import SelectFromModel"
   ]
  },
  {
   "cell_type": "code",
   "execution_count": 28,
   "id": "b52d0769",
   "metadata": {
    "execution": {
     "iopub.execute_input": "2023-12-05T09:47:17.439855Z",
     "iopub.status.busy": "2023-12-05T09:47:17.438883Z",
     "iopub.status.idle": "2023-12-05T09:47:17.444183Z",
     "shell.execute_reply": "2023-12-05T09:47:17.443122Z"
    },
    "papermill": {
     "duration": 0.037083,
     "end_time": "2023-12-05T09:47:17.446612",
     "exception": false,
     "start_time": "2023-12-05T09:47:17.409529",
     "status": "completed"
    },
    "tags": []
   },
   "outputs": [],
   "source": [
    "#sel = SelectFromModel(RandomForestRegressor(n_estimators = 100))\n",
    "#sel.fit(X_train, y_train)"
   ]
  },
  {
   "cell_type": "code",
   "execution_count": 29,
   "id": "0320e1ea",
   "metadata": {
    "execution": {
     "iopub.execute_input": "2023-12-05T09:47:17.502768Z",
     "iopub.status.busy": "2023-12-05T09:47:17.501395Z",
     "iopub.status.idle": "2023-12-05T09:47:17.506756Z",
     "shell.execute_reply": "2023-12-05T09:47:17.505623Z"
    },
    "papermill": {
     "duration": 0.03673,
     "end_time": "2023-12-05T09:47:17.509327",
     "exception": false,
     "start_time": "2023-12-05T09:47:17.472597",
     "status": "completed"
    },
    "tags": []
   },
   "outputs": [],
   "source": [
    "#sel.get_support()"
   ]
  },
  {
   "cell_type": "code",
   "execution_count": 30,
   "id": "904109f3",
   "metadata": {
    "execution": {
     "iopub.execute_input": "2023-12-05T09:47:17.564231Z",
     "iopub.status.busy": "2023-12-05T09:47:17.563507Z",
     "iopub.status.idle": "2023-12-05T09:47:17.568408Z",
     "shell.execute_reply": "2023-12-05T09:47:17.567506Z"
    },
    "papermill": {
     "duration": 0.034904,
     "end_time": "2023-12-05T09:47:17.570710",
     "exception": false,
     "start_time": "2023-12-05T09:47:17.535806",
     "status": "completed"
    },
    "tags": []
   },
   "outputs": [],
   "source": [
    "#selected_feat= X_train.columns[(sel.get_support())]\n",
    "#len(selected_feat)"
   ]
  },
  {
   "cell_type": "code",
   "execution_count": 31,
   "id": "bce52526",
   "metadata": {
    "execution": {
     "iopub.execute_input": "2023-12-05T09:47:17.626137Z",
     "iopub.status.busy": "2023-12-05T09:47:17.625753Z",
     "iopub.status.idle": "2023-12-05T09:47:17.630902Z",
     "shell.execute_reply": "2023-12-05T09:47:17.629658Z"
    },
    "papermill": {
     "duration": 0.035986,
     "end_time": "2023-12-05T09:47:17.633383",
     "exception": false,
     "start_time": "2023-12-05T09:47:17.597397",
     "status": "completed"
    },
    "tags": []
   },
   "outputs": [],
   "source": [
    "#X_train.hist(bins=50 , figsize=(15 , 15))"
   ]
  },
  {
   "cell_type": "markdown",
   "id": "a2cad846",
   "metadata": {
    "papermill": {
     "duration": 0.026909,
     "end_time": "2023-12-05T09:47:17.686165",
     "exception": false,
     "start_time": "2023-12-05T09:47:17.659256",
     "status": "completed"
    },
    "tags": []
   },
   "source": [
    "**MODEL 1\n",
    "Linear Regreesion**"
   ]
  },
  {
   "cell_type": "code",
   "execution_count": 32,
   "id": "01a6b03b",
   "metadata": {
    "execution": {
     "iopub.execute_input": "2023-12-05T09:47:17.742607Z",
     "iopub.status.busy": "2023-12-05T09:47:17.742179Z",
     "iopub.status.idle": "2023-12-05T09:47:17.901828Z",
     "shell.execute_reply": "2023-12-05T09:47:17.899988Z"
    },
    "papermill": {
     "duration": 0.192754,
     "end_time": "2023-12-05T09:47:17.906513",
     "exception": false,
     "start_time": "2023-12-05T09:47:17.713759",
     "status": "completed"
    },
    "tags": []
   },
   "outputs": [],
   "source": [
    "# Train and predict using linear regression\n",
    "from sklearn.linear_model import LinearRegression\n",
    "\n",
    "# Instantiate linear regression object\n",
    "linear_reg = LinearRegression()\n",
    "\n",
    "# Train with the objt\n",
    "linear_reg.fit(X_train, y_train)\n",
    "\n",
    "# Make prediction\n",
    "y_pred = linear_reg.predict(X_test)"
   ]
  },
  {
   "cell_type": "code",
   "execution_count": 33,
   "id": "cf03c264",
   "metadata": {
    "execution": {
     "iopub.execute_input": "2023-12-05T09:47:18.043785Z",
     "iopub.status.busy": "2023-12-05T09:47:18.043381Z",
     "iopub.status.idle": "2023-12-05T09:47:18.050446Z",
     "shell.execute_reply": "2023-12-05T09:47:18.049265Z"
    },
    "papermill": {
     "duration": 0.040547,
     "end_time": "2023-12-05T09:47:18.052858",
     "exception": false,
     "start_time": "2023-12-05T09:47:18.012311",
     "status": "completed"
    },
    "tags": []
   },
   "outputs": [
    {
     "data": {
      "text/plain": [
       "(35000,)"
      ]
     },
     "execution_count": 33,
     "metadata": {},
     "output_type": "execute_result"
    }
   ],
   "source": [
    "y_pred.shape"
   ]
  },
  {
   "cell_type": "code",
   "execution_count": 34,
   "id": "37a583a6",
   "metadata": {
    "execution": {
     "iopub.execute_input": "2023-12-05T09:47:18.109238Z",
     "iopub.status.busy": "2023-12-05T09:47:18.108826Z",
     "iopub.status.idle": "2023-12-05T09:47:18.117623Z",
     "shell.execute_reply": "2023-12-05T09:47:18.116029Z"
    },
    "papermill": {
     "duration": 0.040176,
     "end_time": "2023-12-05T09:47:18.120160",
     "exception": false,
     "start_time": "2023-12-05T09:47:18.079984",
     "status": "completed"
    },
    "tags": []
   },
   "outputs": [
    {
     "name": "stdout",
     "output_type": "stream",
     "text": [
      "Decision tree R-squared score: 0.723270407681273\n"
     ]
    }
   ],
   "source": [
    "r2_model1 = r2_score(y_test, y_pred)\n",
    "print(f'Decision tree R-squared score: {r2_model1}')"
   ]
  },
  {
   "cell_type": "code",
   "execution_count": 35,
   "id": "ca3e0f2c",
   "metadata": {
    "execution": {
     "iopub.execute_input": "2023-12-05T09:47:18.177770Z",
     "iopub.status.busy": "2023-12-05T09:47:18.176567Z",
     "iopub.status.idle": "2023-12-05T09:47:18.184906Z",
     "shell.execute_reply": "2023-12-05T09:47:18.183405Z"
    },
    "papermill": {
     "duration": 0.039505,
     "end_time": "2023-12-05T09:47:18.187325",
     "exception": false,
     "start_time": "2023-12-05T09:47:18.147820",
     "status": "completed"
    },
    "tags": []
   },
   "outputs": [
    {
     "name": "stdout",
     "output_type": "stream",
     "text": [
      "Random Forest Mean Squared Error: 180.08403785327806\n"
     ]
    }
   ],
   "source": [
    "mse_model1 = mean_squared_error(y_test, y_pred)\n",
    "print(f\"Random Forest Mean Squared Error: {mse_model1}\")"
   ]
  },
  {
   "cell_type": "markdown",
   "id": "324ff0da",
   "metadata": {
    "papermill": {
     "duration": 0.026463,
     "end_time": "2023-12-05T09:47:18.240915",
     "exception": false,
     "start_time": "2023-12-05T09:47:18.214452",
     "status": "completed"
    },
    "tags": []
   },
   "source": [
    "**Desicion Tree Regressor**"
   ]
  },
  {
   "cell_type": "markdown",
   "id": "4ac84dec",
   "metadata": {
    "papermill": {
     "duration": 0.026416,
     "end_time": "2023-12-05T09:47:18.293561",
     "exception": false,
     "start_time": "2023-12-05T09:47:18.267145",
     "status": "completed"
    },
    "tags": []
   },
   "source": [
    "**Hypertunning**"
   ]
  },
  {
   "cell_type": "code",
   "execution_count": 36,
   "id": "9138dbf4",
   "metadata": {
    "execution": {
     "iopub.execute_input": "2023-12-05T09:47:18.348075Z",
     "iopub.status.busy": "2023-12-05T09:47:18.347249Z",
     "iopub.status.idle": "2023-12-05T09:47:18.352571Z",
     "shell.execute_reply": "2023-12-05T09:47:18.351256Z"
    },
    "papermill": {
     "duration": 0.035497,
     "end_time": "2023-12-05T09:47:18.355175",
     "exception": false,
     "start_time": "2023-12-05T09:47:18.319678",
     "status": "completed"
    },
    "tags": []
   },
   "outputs": [],
   "source": [
    "#models =  DecisionTreeRegressor()\n",
    "\n",
    "# Define hyperparameters to tune and their possible values\n",
    "#param_grid = {\n",
    "    #'max_depth': [10, 20, 30, 40],\n",
    "    #'min_samples_split': [2, 10, 20],\n",
    "    #'min_samples_leaf': [1, 5, 10],\n",
    "   # 'max_features': ['auto', 'sqrt']\n",
    "#}"
   ]
  },
  {
   "cell_type": "code",
   "execution_count": 37,
   "id": "d385a9b5",
   "metadata": {
    "execution": {
     "iopub.execute_input": "2023-12-05T09:47:18.412234Z",
     "iopub.status.busy": "2023-12-05T09:47:18.411851Z",
     "iopub.status.idle": "2023-12-05T09:47:18.416027Z",
     "shell.execute_reply": "2023-12-05T09:47:18.415137Z"
    },
    "papermill": {
     "duration": 0.036368,
     "end_time": "2023-12-05T09:47:18.418184",
     "exception": false,
     "start_time": "2023-12-05T09:47:18.381816",
     "status": "completed"
    },
    "tags": []
   },
   "outputs": [],
   "source": [
    "# Use GridSearchCV to find the best hyperparameters\n",
    "#grid_search = GridSearchCV(models, param_grid, cv=5)\n",
    "#grid_search.fit(X_train, y_train)\n",
    "\n",
    "# Get the best hyperparameters\n",
    "#best_params = grid_search.best_params_\n",
    "#print(f'Best Hyperparameters: {best_params}')\n",
    "\n",
    "# Make predictions on the test set using the best model\n",
    "#best_model = grid_search.best_estimator_\n",
    "#predictions = best_model.predict(X_test)"
   ]
  },
  {
   "cell_type": "code",
   "execution_count": 38,
   "id": "94b7bbea",
   "metadata": {
    "execution": {
     "iopub.execute_input": "2023-12-05T09:47:18.475482Z",
     "iopub.status.busy": "2023-12-05T09:47:18.474769Z",
     "iopub.status.idle": "2023-12-05T09:47:19.887687Z",
     "shell.execute_reply": "2023-12-05T09:47:19.886286Z"
    },
    "papermill": {
     "duration": 1.443669,
     "end_time": "2023-12-05T09:47:19.890349",
     "exception": false,
     "start_time": "2023-12-05T09:47:18.446680",
     "status": "completed"
    },
    "tags": []
   },
   "outputs": [
    {
     "name": "stderr",
     "output_type": "stream",
     "text": [
      "/opt/conda/lib/python3.10/site-packages/sklearn/tree/_classes.py:277: FutureWarning: `max_features='auto'` has been deprecated in 1.1 and will be removed in 1.3. To keep the past behaviour, explicitly set `max_features=1.0'`.\n",
      "  warnings.warn(\n"
     ]
    },
    {
     "data": {
      "text/html": [
       "<style>#sk-container-id-1 {color: black;background-color: white;}#sk-container-id-1 pre{padding: 0;}#sk-container-id-1 div.sk-toggleable {background-color: white;}#sk-container-id-1 label.sk-toggleable__label {cursor: pointer;display: block;width: 100%;margin-bottom: 0;padding: 0.3em;box-sizing: border-box;text-align: center;}#sk-container-id-1 label.sk-toggleable__label-arrow:before {content: \"▸\";float: left;margin-right: 0.25em;color: #696969;}#sk-container-id-1 label.sk-toggleable__label-arrow:hover:before {color: black;}#sk-container-id-1 div.sk-estimator:hover label.sk-toggleable__label-arrow:before {color: black;}#sk-container-id-1 div.sk-toggleable__content {max-height: 0;max-width: 0;overflow: hidden;text-align: left;background-color: #f0f8ff;}#sk-container-id-1 div.sk-toggleable__content pre {margin: 0.2em;color: black;border-radius: 0.25em;background-color: #f0f8ff;}#sk-container-id-1 input.sk-toggleable__control:checked~div.sk-toggleable__content {max-height: 200px;max-width: 100%;overflow: auto;}#sk-container-id-1 input.sk-toggleable__control:checked~label.sk-toggleable__label-arrow:before {content: \"▾\";}#sk-container-id-1 div.sk-estimator input.sk-toggleable__control:checked~label.sk-toggleable__label {background-color: #d4ebff;}#sk-container-id-1 div.sk-label input.sk-toggleable__control:checked~label.sk-toggleable__label {background-color: #d4ebff;}#sk-container-id-1 input.sk-hidden--visually {border: 0;clip: rect(1px 1px 1px 1px);clip: rect(1px, 1px, 1px, 1px);height: 1px;margin: -1px;overflow: hidden;padding: 0;position: absolute;width: 1px;}#sk-container-id-1 div.sk-estimator {font-family: monospace;background-color: #f0f8ff;border: 1px dotted black;border-radius: 0.25em;box-sizing: border-box;margin-bottom: 0.5em;}#sk-container-id-1 div.sk-estimator:hover {background-color: #d4ebff;}#sk-container-id-1 div.sk-parallel-item::after {content: \"\";width: 100%;border-bottom: 1px solid gray;flex-grow: 1;}#sk-container-id-1 div.sk-label:hover label.sk-toggleable__label {background-color: #d4ebff;}#sk-container-id-1 div.sk-serial::before {content: \"\";position: absolute;border-left: 1px solid gray;box-sizing: border-box;top: 0;bottom: 0;left: 50%;z-index: 0;}#sk-container-id-1 div.sk-serial {display: flex;flex-direction: column;align-items: center;background-color: white;padding-right: 0.2em;padding-left: 0.2em;position: relative;}#sk-container-id-1 div.sk-item {position: relative;z-index: 1;}#sk-container-id-1 div.sk-parallel {display: flex;align-items: stretch;justify-content: center;background-color: white;position: relative;}#sk-container-id-1 div.sk-item::before, #sk-container-id-1 div.sk-parallel-item::before {content: \"\";position: absolute;border-left: 1px solid gray;box-sizing: border-box;top: 0;bottom: 0;left: 50%;z-index: -1;}#sk-container-id-1 div.sk-parallel-item {display: flex;flex-direction: column;z-index: 1;position: relative;background-color: white;}#sk-container-id-1 div.sk-parallel-item:first-child::after {align-self: flex-end;width: 50%;}#sk-container-id-1 div.sk-parallel-item:last-child::after {align-self: flex-start;width: 50%;}#sk-container-id-1 div.sk-parallel-item:only-child::after {width: 0;}#sk-container-id-1 div.sk-dashed-wrapped {border: 1px dashed gray;margin: 0 0.4em 0.5em 0.4em;box-sizing: border-box;padding-bottom: 0.4em;background-color: white;}#sk-container-id-1 div.sk-label label {font-family: monospace;font-weight: bold;display: inline-block;line-height: 1.2em;}#sk-container-id-1 div.sk-label-container {text-align: center;}#sk-container-id-1 div.sk-container {/* jupyter's `normalize.less` sets `[hidden] { display: none; }` but bootstrap.min.css set `[hidden] { display: none !important; }` so we also need the `!important` here to be able to override the default hidden behavior on the sphinx rendered scikit-learn.org. See: https://github.com/scikit-learn/scikit-learn/issues/21755 */display: inline-block !important;position: relative;}#sk-container-id-1 div.sk-text-repr-fallback {display: none;}</style><div id=\"sk-container-id-1\" class=\"sk-top-container\"><div class=\"sk-text-repr-fallback\"><pre>DecisionTreeRegressor(max_features=&#x27;auto&#x27;, min_samples_leaf=15,\n",
       "                      min_samples_split=10)</pre><b>In a Jupyter environment, please rerun this cell to show the HTML representation or trust the notebook. <br />On GitHub, the HTML representation is unable to render, please try loading this page with nbviewer.org.</b></div><div class=\"sk-container\" hidden><div class=\"sk-item\"><div class=\"sk-estimator sk-toggleable\"><input class=\"sk-toggleable__control sk-hidden--visually\" id=\"sk-estimator-id-1\" type=\"checkbox\" checked><label for=\"sk-estimator-id-1\" class=\"sk-toggleable__label sk-toggleable__label-arrow\">DecisionTreeRegressor</label><div class=\"sk-toggleable__content\"><pre>DecisionTreeRegressor(max_features=&#x27;auto&#x27;, min_samples_leaf=15,\n",
       "                      min_samples_split=10)</pre></div></div></div></div></div>"
      ],
      "text/plain": [
       "DecisionTreeRegressor(max_features='auto', min_samples_leaf=15,\n",
       "                      min_samples_split=10)"
      ]
     },
     "execution_count": 38,
     "metadata": {},
     "output_type": "execute_result"
    }
   ],
   "source": [
    "params = { 'min_samples_split':10,\n",
    "          'max_features': 'auto', \n",
    "          'min_samples_leaf': 15 , \n",
    "          \n",
    "          }\n",
    "tree_reg = DecisionTreeRegressor(**params)\n",
    "\n",
    "# # Fit the model to the training data\n",
    "tree_reg.fit(X_train, y_train)"
   ]
  },
  {
   "cell_type": "code",
   "execution_count": 39,
   "id": "e716dbd2",
   "metadata": {
    "execution": {
     "iopub.execute_input": "2023-12-05T09:47:19.948741Z",
     "iopub.status.busy": "2023-12-05T09:47:19.948269Z",
     "iopub.status.idle": "2023-12-05T09:47:19.969907Z",
     "shell.execute_reply": "2023-12-05T09:47:19.968394Z"
    },
    "papermill": {
     "duration": 0.054818,
     "end_time": "2023-12-05T09:47:19.973186",
     "exception": false,
     "start_time": "2023-12-05T09:47:19.918368",
     "status": "completed"
    },
    "tags": []
   },
   "outputs": [
    {
     "name": "stdout",
     "output_type": "stream",
     "text": [
      "Decision tree R-squared score: 0.9432876491470197\n",
      "Random Forest Mean Squared Error: 36.90602458588367\n"
     ]
    }
   ],
   "source": [
    "y_test_pred_dt = tree_reg.predict(X_test)\n",
    "r2_model2 = r2_score(y_test, y_test_pred_dt)\n",
    "print(f'Decision tree R-squared score: {r2_model2}')\n",
    "mse_model2 = mean_squared_error(y_test, y_test_pred_dt)\n",
    "print(f\"Random Forest Mean Squared Error: {mse_model2}\")"
   ]
  },
  {
   "cell_type": "markdown",
   "id": "054f2fad",
   "metadata": {
    "papermill": {
     "duration": 0.026739,
     "end_time": "2023-12-05T09:47:20.027279",
     "exception": false,
     "start_time": "2023-12-05T09:47:20.000540",
     "status": "completed"
    },
    "tags": []
   },
   "source": [
    "**Random Forest Regressor**\n"
   ]
  },
  {
   "cell_type": "markdown",
   "id": "a71f5487",
   "metadata": {
    "papermill": {
     "duration": 0.02685,
     "end_time": "2023-12-05T09:47:20.081352",
     "exception": false,
     "start_time": "2023-12-05T09:47:20.054502",
     "status": "completed"
    },
    "tags": []
   },
   "source": [
    "**Hypertunning**"
   ]
  },
  {
   "cell_type": "code",
   "execution_count": 40,
   "id": "a7867873",
   "metadata": {
    "execution": {
     "iopub.execute_input": "2023-12-05T09:47:20.137716Z",
     "iopub.status.busy": "2023-12-05T09:47:20.137266Z",
     "iopub.status.idle": "2023-12-05T09:47:20.141802Z",
     "shell.execute_reply": "2023-12-05T09:47:20.140638Z"
    },
    "papermill": {
     "duration": 0.035601,
     "end_time": "2023-12-05T09:47:20.144050",
     "exception": false,
     "start_time": "2023-12-05T09:47:20.108449",
     "status": "completed"
    },
    "tags": []
   },
   "outputs": [],
   "source": [
    "# Initialize the model\n",
    "# models = RandomForestRegressor()\n",
    "# # # Define the hyperparameters grid to be searched\n",
    "# # # param_grid = \n",
    "# # #     {'n_estimators': [90, 70, 110], 'max_features': [2, 4, 6, 8]}\n"
   ]
  },
  {
   "cell_type": "code",
   "execution_count": 41,
   "id": "eae85913",
   "metadata": {
    "execution": {
     "iopub.execute_input": "2023-12-05T09:47:20.200975Z",
     "iopub.status.busy": "2023-12-05T09:47:20.200530Z",
     "iopub.status.idle": "2023-12-05T09:47:20.206140Z",
     "shell.execute_reply": "2023-12-05T09:47:20.204929Z"
    },
    "papermill": {
     "duration": 0.037489,
     "end_time": "2023-12-05T09:47:20.208708",
     "exception": false,
     "start_time": "2023-12-05T09:47:20.171219",
     "status": "completed"
    },
    "tags": []
   },
   "outputs": [],
   "source": [
    "\n",
    "#Use GridSearchCV to find the best hyperparameters\n",
    "#grid_search = GridSearchCV(models, params, cv=5)\n",
    "#grid_search.fit(X_train, y_train)\n",
    "\n",
    "# Get the best hyperparameters\n",
    "#best_params = grid_search.best_params_\n",
    "#print(f'Best Hyperparameters: {best_params}')\n",
    "\n",
    "# Make predictions on the test set using the best model\n",
    "#best_model = grid_search.best_estimator_\n",
    "#predictions = best_model.predict(X_test)"
   ]
  },
  {
   "cell_type": "code",
   "execution_count": 42,
   "id": "a2f86db5",
   "metadata": {
    "execution": {
     "iopub.execute_input": "2023-12-05T09:47:20.266919Z",
     "iopub.status.busy": "2023-12-05T09:47:20.266483Z",
     "iopub.status.idle": "2023-12-05T09:48:17.733533Z",
     "shell.execute_reply": "2023-12-05T09:48:17.732357Z"
    },
    "papermill": {
     "duration": 57.52818,
     "end_time": "2023-12-05T09:48:17.764151",
     "exception": false,
     "start_time": "2023-12-05T09:47:20.235971",
     "status": "completed"
    },
    "tags": []
   },
   "outputs": [
    {
     "data": {
      "text/html": [
       "<style>#sk-container-id-2 {color: black;background-color: white;}#sk-container-id-2 pre{padding: 0;}#sk-container-id-2 div.sk-toggleable {background-color: white;}#sk-container-id-2 label.sk-toggleable__label {cursor: pointer;display: block;width: 100%;margin-bottom: 0;padding: 0.3em;box-sizing: border-box;text-align: center;}#sk-container-id-2 label.sk-toggleable__label-arrow:before {content: \"▸\";float: left;margin-right: 0.25em;color: #696969;}#sk-container-id-2 label.sk-toggleable__label-arrow:hover:before {color: black;}#sk-container-id-2 div.sk-estimator:hover label.sk-toggleable__label-arrow:before {color: black;}#sk-container-id-2 div.sk-toggleable__content {max-height: 0;max-width: 0;overflow: hidden;text-align: left;background-color: #f0f8ff;}#sk-container-id-2 div.sk-toggleable__content pre {margin: 0.2em;color: black;border-radius: 0.25em;background-color: #f0f8ff;}#sk-container-id-2 input.sk-toggleable__control:checked~div.sk-toggleable__content {max-height: 200px;max-width: 100%;overflow: auto;}#sk-container-id-2 input.sk-toggleable__control:checked~label.sk-toggleable__label-arrow:before {content: \"▾\";}#sk-container-id-2 div.sk-estimator input.sk-toggleable__control:checked~label.sk-toggleable__label {background-color: #d4ebff;}#sk-container-id-2 div.sk-label input.sk-toggleable__control:checked~label.sk-toggleable__label {background-color: #d4ebff;}#sk-container-id-2 input.sk-hidden--visually {border: 0;clip: rect(1px 1px 1px 1px);clip: rect(1px, 1px, 1px, 1px);height: 1px;margin: -1px;overflow: hidden;padding: 0;position: absolute;width: 1px;}#sk-container-id-2 div.sk-estimator {font-family: monospace;background-color: #f0f8ff;border: 1px dotted black;border-radius: 0.25em;box-sizing: border-box;margin-bottom: 0.5em;}#sk-container-id-2 div.sk-estimator:hover {background-color: #d4ebff;}#sk-container-id-2 div.sk-parallel-item::after {content: \"\";width: 100%;border-bottom: 1px solid gray;flex-grow: 1;}#sk-container-id-2 div.sk-label:hover label.sk-toggleable__label {background-color: #d4ebff;}#sk-container-id-2 div.sk-serial::before {content: \"\";position: absolute;border-left: 1px solid gray;box-sizing: border-box;top: 0;bottom: 0;left: 50%;z-index: 0;}#sk-container-id-2 div.sk-serial {display: flex;flex-direction: column;align-items: center;background-color: white;padding-right: 0.2em;padding-left: 0.2em;position: relative;}#sk-container-id-2 div.sk-item {position: relative;z-index: 1;}#sk-container-id-2 div.sk-parallel {display: flex;align-items: stretch;justify-content: center;background-color: white;position: relative;}#sk-container-id-2 div.sk-item::before, #sk-container-id-2 div.sk-parallel-item::before {content: \"\";position: absolute;border-left: 1px solid gray;box-sizing: border-box;top: 0;bottom: 0;left: 50%;z-index: -1;}#sk-container-id-2 div.sk-parallel-item {display: flex;flex-direction: column;z-index: 1;position: relative;background-color: white;}#sk-container-id-2 div.sk-parallel-item:first-child::after {align-self: flex-end;width: 50%;}#sk-container-id-2 div.sk-parallel-item:last-child::after {align-self: flex-start;width: 50%;}#sk-container-id-2 div.sk-parallel-item:only-child::after {width: 0;}#sk-container-id-2 div.sk-dashed-wrapped {border: 1px dashed gray;margin: 0 0.4em 0.5em 0.4em;box-sizing: border-box;padding-bottom: 0.4em;background-color: white;}#sk-container-id-2 div.sk-label label {font-family: monospace;font-weight: bold;display: inline-block;line-height: 1.2em;}#sk-container-id-2 div.sk-label-container {text-align: center;}#sk-container-id-2 div.sk-container {/* jupyter's `normalize.less` sets `[hidden] { display: none; }` but bootstrap.min.css set `[hidden] { display: none !important; }` so we also need the `!important` here to be able to override the default hidden behavior on the sphinx rendered scikit-learn.org. See: https://github.com/scikit-learn/scikit-learn/issues/21755 */display: inline-block !important;position: relative;}#sk-container-id-2 div.sk-text-repr-fallback {display: none;}</style><div id=\"sk-container-id-2\" class=\"sk-top-container\"><div class=\"sk-text-repr-fallback\"><pre>RandomForestRegressor(max_features=6, n_estimators=110)</pre><b>In a Jupyter environment, please rerun this cell to show the HTML representation or trust the notebook. <br />On GitHub, the HTML representation is unable to render, please try loading this page with nbviewer.org.</b></div><div class=\"sk-container\" hidden><div class=\"sk-item\"><div class=\"sk-estimator sk-toggleable\"><input class=\"sk-toggleable__control sk-hidden--visually\" id=\"sk-estimator-id-2\" type=\"checkbox\" checked><label for=\"sk-estimator-id-2\" class=\"sk-toggleable__label sk-toggleable__label-arrow\">RandomForestRegressor</label><div class=\"sk-toggleable__content\"><pre>RandomForestRegressor(max_features=6, n_estimators=110)</pre></div></div></div></div></div>"
      ],
      "text/plain": [
       "RandomForestRegressor(max_features=6, n_estimators=110)"
      ]
     },
     "execution_count": 42,
     "metadata": {},
     "output_type": "execute_result"
    }
   ],
   "source": [
    "\n",
    "params = {'max_features': 6, 'n_estimators': 110}\n",
    "\n",
    "forest_reg = RandomForestRegressor(**params)\n",
    "forest_reg.fit(X_train, y_train)"
   ]
  },
  {
   "cell_type": "code",
   "execution_count": 43,
   "id": "f7059b22",
   "metadata": {
    "execution": {
     "iopub.execute_input": "2023-12-05T09:48:17.821153Z",
     "iopub.status.busy": "2023-12-05T09:48:17.820759Z",
     "iopub.status.idle": "2023-12-05T09:48:20.022223Z",
     "shell.execute_reply": "2023-12-05T09:48:20.020683Z"
    },
    "papermill": {
     "duration": 2.232981,
     "end_time": "2023-12-05T09:48:20.024796",
     "exception": false,
     "start_time": "2023-12-05T09:48:17.791815",
     "status": "completed"
    },
    "tags": []
   },
   "outputs": [
    {
     "name": "stdout",
     "output_type": "stream",
     "text": [
      "Random Forest Mean Squared Error: 30.14140145266281\n",
      "Random Forest R-squared score: 0.9536826370879898\n"
     ]
    }
   ],
   "source": [
    "y_pred_rf = forest_reg.predict(X_test)\n",
    "mse_model3 = mean_squared_error(y_test, y_pred_rf)\n",
    "print(f\"Random Forest Mean Squared Error: {mse_model3}\")\n",
    "\n",
    "r2_model3 = r2_score(y_test, y_pred_rf)\n",
    "print(f'Random Forest R-squared score: {r2_model3}')"
   ]
  },
  {
   "cell_type": "markdown",
   "id": "a0e15d0a",
   "metadata": {
    "papermill": {
     "duration": 0.027465,
     "end_time": "2023-12-05T09:48:20.079795",
     "exception": false,
     "start_time": "2023-12-05T09:48:20.052330",
     "status": "completed"
    },
    "tags": []
   },
   "source": [
    "**Model 4 -XGBoost**"
   ]
  },
  {
   "cell_type": "markdown",
   "id": "165f7e20",
   "metadata": {
    "papermill": {
     "duration": 0.027141,
     "end_time": "2023-12-05T09:48:20.134894",
     "exception": false,
     "start_time": "2023-12-05T09:48:20.107753",
     "status": "completed"
    },
    "tags": []
   },
   "source": [
    "**Hypertuning**"
   ]
  },
  {
   "cell_type": "code",
   "execution_count": 44,
   "id": "26290334",
   "metadata": {
    "execution": {
     "iopub.execute_input": "2023-12-05T09:48:20.191891Z",
     "iopub.status.busy": "2023-12-05T09:48:20.191466Z",
     "iopub.status.idle": "2023-12-05T09:48:20.384357Z",
     "shell.execute_reply": "2023-12-05T09:48:20.383042Z"
    },
    "papermill": {
     "duration": 0.224642,
     "end_time": "2023-12-05T09:48:20.387196",
     "exception": false,
     "start_time": "2023-12-05T09:48:20.162554",
     "status": "completed"
    },
    "tags": []
   },
   "outputs": [],
   "source": [
    "#from sklearn.model_selection import GridSearchCV\n",
    "from xgboost import XGBRegressor\n",
    "#param_grid = {\n",
    "    #'learning_rate': [0.01, 0.1, 0.2],\n",
    "    #'max_depth': [3, 4, 5],\n",
    "    #'n_estimators': [100, 200, 300]\n",
    "#}\n",
    "\n",
    "#grid_search = GridSearchCV(estimator=XGBRegressor(objective='reg:squarederror', random_state=42),\n",
    "                           #param_grid=param_grid,\n",
    "                           #cv=3,\n",
    "                           #scoring='neg_mean_squared_error',\n",
    "                           #verbose=2)\n",
    "\n",
    "#grid_search.fit(X_train, y_train)\n",
    "\n",
    "#best_params = grid_search.best_params_\n",
    "#best_model = grid_search.best_estimator_"
   ]
  },
  {
   "cell_type": "code",
   "execution_count": 45,
   "id": "097c29a4",
   "metadata": {
    "execution": {
     "iopub.execute_input": "2023-12-05T09:48:20.443935Z",
     "iopub.status.busy": "2023-12-05T09:48:20.443511Z",
     "iopub.status.idle": "2023-12-05T09:48:33.551357Z",
     "shell.execute_reply": "2023-12-05T09:48:33.549512Z"
    },
    "papermill": {
     "duration": 13.139981,
     "end_time": "2023-12-05T09:48:33.554810",
     "exception": false,
     "start_time": "2023-12-05T09:48:20.414829",
     "status": "completed"
    },
    "tags": []
   },
   "outputs": [
    {
     "data": {
      "text/html": [
       "<style>#sk-container-id-3 {color: black;background-color: white;}#sk-container-id-3 pre{padding: 0;}#sk-container-id-3 div.sk-toggleable {background-color: white;}#sk-container-id-3 label.sk-toggleable__label {cursor: pointer;display: block;width: 100%;margin-bottom: 0;padding: 0.3em;box-sizing: border-box;text-align: center;}#sk-container-id-3 label.sk-toggleable__label-arrow:before {content: \"▸\";float: left;margin-right: 0.25em;color: #696969;}#sk-container-id-3 label.sk-toggleable__label-arrow:hover:before {color: black;}#sk-container-id-3 div.sk-estimator:hover label.sk-toggleable__label-arrow:before {color: black;}#sk-container-id-3 div.sk-toggleable__content {max-height: 0;max-width: 0;overflow: hidden;text-align: left;background-color: #f0f8ff;}#sk-container-id-3 div.sk-toggleable__content pre {margin: 0.2em;color: black;border-radius: 0.25em;background-color: #f0f8ff;}#sk-container-id-3 input.sk-toggleable__control:checked~div.sk-toggleable__content {max-height: 200px;max-width: 100%;overflow: auto;}#sk-container-id-3 input.sk-toggleable__control:checked~label.sk-toggleable__label-arrow:before {content: \"▾\";}#sk-container-id-3 div.sk-estimator input.sk-toggleable__control:checked~label.sk-toggleable__label {background-color: #d4ebff;}#sk-container-id-3 div.sk-label input.sk-toggleable__control:checked~label.sk-toggleable__label {background-color: #d4ebff;}#sk-container-id-3 input.sk-hidden--visually {border: 0;clip: rect(1px 1px 1px 1px);clip: rect(1px, 1px, 1px, 1px);height: 1px;margin: -1px;overflow: hidden;padding: 0;position: absolute;width: 1px;}#sk-container-id-3 div.sk-estimator {font-family: monospace;background-color: #f0f8ff;border: 1px dotted black;border-radius: 0.25em;box-sizing: border-box;margin-bottom: 0.5em;}#sk-container-id-3 div.sk-estimator:hover {background-color: #d4ebff;}#sk-container-id-3 div.sk-parallel-item::after {content: \"\";width: 100%;border-bottom: 1px solid gray;flex-grow: 1;}#sk-container-id-3 div.sk-label:hover label.sk-toggleable__label {background-color: #d4ebff;}#sk-container-id-3 div.sk-serial::before {content: \"\";position: absolute;border-left: 1px solid gray;box-sizing: border-box;top: 0;bottom: 0;left: 50%;z-index: 0;}#sk-container-id-3 div.sk-serial {display: flex;flex-direction: column;align-items: center;background-color: white;padding-right: 0.2em;padding-left: 0.2em;position: relative;}#sk-container-id-3 div.sk-item {position: relative;z-index: 1;}#sk-container-id-3 div.sk-parallel {display: flex;align-items: stretch;justify-content: center;background-color: white;position: relative;}#sk-container-id-3 div.sk-item::before, #sk-container-id-3 div.sk-parallel-item::before {content: \"\";position: absolute;border-left: 1px solid gray;box-sizing: border-box;top: 0;bottom: 0;left: 50%;z-index: -1;}#sk-container-id-3 div.sk-parallel-item {display: flex;flex-direction: column;z-index: 1;position: relative;background-color: white;}#sk-container-id-3 div.sk-parallel-item:first-child::after {align-self: flex-end;width: 50%;}#sk-container-id-3 div.sk-parallel-item:last-child::after {align-self: flex-start;width: 50%;}#sk-container-id-3 div.sk-parallel-item:only-child::after {width: 0;}#sk-container-id-3 div.sk-dashed-wrapped {border: 1px dashed gray;margin: 0 0.4em 0.5em 0.4em;box-sizing: border-box;padding-bottom: 0.4em;background-color: white;}#sk-container-id-3 div.sk-label label {font-family: monospace;font-weight: bold;display: inline-block;line-height: 1.2em;}#sk-container-id-3 div.sk-label-container {text-align: center;}#sk-container-id-3 div.sk-container {/* jupyter's `normalize.less` sets `[hidden] { display: none; }` but bootstrap.min.css set `[hidden] { display: none !important; }` so we also need the `!important` here to be able to override the default hidden behavior on the sphinx rendered scikit-learn.org. See: https://github.com/scikit-learn/scikit-learn/issues/21755 */display: inline-block !important;position: relative;}#sk-container-id-3 div.sk-text-repr-fallback {display: none;}</style><div id=\"sk-container-id-3\" class=\"sk-top-container\"><div class=\"sk-text-repr-fallback\"><pre>XGBRegressor(base_score=None, booster=None, callbacks=None,\n",
       "             colsample_bylevel=None, colsample_bynode=None,\n",
       "             colsample_bytree=None, early_stopping_rounds=None,\n",
       "             enable_categorical=False, eval_metric=None, feature_types=None,\n",
       "             gamma=None, gpu_id=None, grow_policy=None, importance_type=None,\n",
       "             interaction_constraints=None, learning_rate=0.1, max_bin=None,\n",
       "             max_cat_threshold=None, max_cat_to_onehot=None,\n",
       "             max_delta_step=None, max_depth=4, max_leaves=None,\n",
       "             min_child_weight=None, missing=nan, monotone_constraints=None,\n",
       "             n_estimators=200, n_jobs=None, num_parallel_tree=None,\n",
       "             predictor=None, random_state=42, ...)</pre><b>In a Jupyter environment, please rerun this cell to show the HTML representation or trust the notebook. <br />On GitHub, the HTML representation is unable to render, please try loading this page with nbviewer.org.</b></div><div class=\"sk-container\" hidden><div class=\"sk-item\"><div class=\"sk-estimator sk-toggleable\"><input class=\"sk-toggleable__control sk-hidden--visually\" id=\"sk-estimator-id-3\" type=\"checkbox\" checked><label for=\"sk-estimator-id-3\" class=\"sk-toggleable__label sk-toggleable__label-arrow\">XGBRegressor</label><div class=\"sk-toggleable__content\"><pre>XGBRegressor(base_score=None, booster=None, callbacks=None,\n",
       "             colsample_bylevel=None, colsample_bynode=None,\n",
       "             colsample_bytree=None, early_stopping_rounds=None,\n",
       "             enable_categorical=False, eval_metric=None, feature_types=None,\n",
       "             gamma=None, gpu_id=None, grow_policy=None, importance_type=None,\n",
       "             interaction_constraints=None, learning_rate=0.1, max_bin=None,\n",
       "             max_cat_threshold=None, max_cat_to_onehot=None,\n",
       "             max_delta_step=None, max_depth=4, max_leaves=None,\n",
       "             min_child_weight=None, missing=nan, monotone_constraints=None,\n",
       "             n_estimators=200, n_jobs=None, num_parallel_tree=None,\n",
       "             predictor=None, random_state=42, ...)</pre></div></div></div></div></div>"
      ],
      "text/plain": [
       "XGBRegressor(base_score=None, booster=None, callbacks=None,\n",
       "             colsample_bylevel=None, colsample_bynode=None,\n",
       "             colsample_bytree=None, early_stopping_rounds=None,\n",
       "             enable_categorical=False, eval_metric=None, feature_types=None,\n",
       "             gamma=None, gpu_id=None, grow_policy=None, importance_type=None,\n",
       "             interaction_constraints=None, learning_rate=0.1, max_bin=None,\n",
       "             max_cat_threshold=None, max_cat_to_onehot=None,\n",
       "             max_delta_step=None, max_depth=4, max_leaves=None,\n",
       "             min_child_weight=None, missing=nan, monotone_constraints=None,\n",
       "             n_estimators=200, n_jobs=None, num_parallel_tree=None,\n",
       "             predictor=None, random_state=42, ...)"
      ]
     },
     "execution_count": 45,
     "metadata": {},
     "output_type": "execute_result"
    }
   ],
   "source": [
    "xgb_model = XGBRegressor(base_score=None, booster=None, callbacks=None,\n",
    "            enable_categorical=False, learning_rate=0.1, max_depth=4,  n_estimators=200, random_state=42)\n",
    "\n",
    "# Train the model\n",
    "xgb_model.fit(X_train, y_train)"
   ]
  },
  {
   "cell_type": "code",
   "execution_count": 46,
   "id": "9cdd52a4",
   "metadata": {
    "execution": {
     "iopub.execute_input": "2023-12-05T09:48:33.613877Z",
     "iopub.status.busy": "2023-12-05T09:48:33.612885Z",
     "iopub.status.idle": "2023-12-05T09:48:33.661762Z",
     "shell.execute_reply": "2023-12-05T09:48:33.660593Z"
    },
    "papermill": {
     "duration": 0.081058,
     "end_time": "2023-12-05T09:48:33.664516",
     "exception": false,
     "start_time": "2023-12-05T09:48:33.583458",
     "status": "completed"
    },
    "tags": []
   },
   "outputs": [],
   "source": [
    "y_pre = xgb_model.predict(X_test)"
   ]
  },
  {
   "cell_type": "code",
   "execution_count": 47,
   "id": "644c1deb",
   "metadata": {
    "execution": {
     "iopub.execute_input": "2023-12-05T09:48:33.725968Z",
     "iopub.status.busy": "2023-12-05T09:48:33.725559Z",
     "iopub.status.idle": "2023-12-05T09:48:33.736983Z",
     "shell.execute_reply": "2023-12-05T09:48:33.736068Z"
    },
    "papermill": {
     "duration": 0.044363,
     "end_time": "2023-12-05T09:48:33.739448",
     "exception": false,
     "start_time": "2023-12-05T09:48:33.695085",
     "status": "completed"
    },
    "tags": []
   },
   "outputs": [
    {
     "name": "stdout",
     "output_type": "stream",
     "text": [
      "Random Forest R-squared score: 0.9527209650333689\n",
      "Random Forest Mean Squared Error: 30.76721738089694\n"
     ]
    }
   ],
   "source": [
    "r2_model4 = r2_score(y_test, y_pre)\n",
    "print(f'Random Forest R-squared score: {r2_model4}')\n",
    "mse_model4 = mean_squared_error(y_test, y_pre)\n",
    "print(f\"Random Forest Mean Squared Error: {mse_model4}\")"
   ]
  },
  {
   "cell_type": "markdown",
   "id": "38296569",
   "metadata": {
    "papermill": {
     "duration": 0.029288,
     "end_time": "2023-12-05T09:48:33.798166",
     "exception": false,
     "start_time": "2023-12-05T09:48:33.768878",
     "status": "completed"
    },
    "tags": []
   },
   "source": [
    "**Models Comparision**"
   ]
  },
  {
   "cell_type": "code",
   "execution_count": 48,
   "id": "ecef7855",
   "metadata": {
    "execution": {
     "iopub.execute_input": "2023-12-05T09:48:33.859460Z",
     "iopub.status.busy": "2023-12-05T09:48:33.858320Z",
     "iopub.status.idle": "2023-12-05T09:48:34.069738Z",
     "shell.execute_reply": "2023-12-05T09:48:34.068703Z"
    },
    "papermill": {
     "duration": 0.245041,
     "end_time": "2023-12-05T09:48:34.072300",
     "exception": false,
     "start_time": "2023-12-05T09:48:33.827259",
     "status": "completed"
    },
    "tags": []
   },
   "outputs": [
    {
     "data": {
      "image/png": "[encoded data removed]",
      "text/plain": [
       "<Figure size 640x480 with 1 Axes>"
      ]
     },
     "metadata": {},
     "output_type": "display_data"
    }
   ],
   "source": [
    "models = ['linear_reg','tree_reg', 'forest_reg', 'xgb_model']\n",
    "mse_scores = [mse_model1, mse_model2, mse_model3, mse_model4]\n",
    "\n",
    "plt.bar(models, mse_scores)\n",
    "plt.ylabel('Mean Squared Error')\n",
    "plt.title('Model Comparison')\n",
    "plt.show()"
   ]
  },
  {
   "cell_type": "code",
   "execution_count": 49,
   "id": "68b57940",
   "metadata": {
    "execution": {
     "iopub.execute_input": "2023-12-05T09:48:34.133036Z",
     "iopub.status.busy": "2023-12-05T09:48:34.132304Z",
     "iopub.status.idle": "2023-12-05T09:48:34.321653Z",
     "shell.execute_reply": "2023-12-05T09:48:34.320299Z"
    },
    "papermill": {
     "duration": 0.222365,
     "end_time": "2023-12-05T09:48:34.324469",
     "exception": false,
     "start_time": "2023-12-05T09:48:34.102104",
     "status": "completed"
    },
    "tags": []
   },
   "outputs": [
    {
     "data": {
      "image/png": "[encoded data removed]",
      "text/plain": [
       "<Figure size 640x480 with 1 Axes>"
      ]
     },
     "metadata": {},
     "output_type": "display_data"
    }
   ],
   "source": [
    "models = ['linear_reg','tree_reg', 'forest_reg', 'xgb_model']\n",
    "r2_scores = [r2_model1, r2_model2, r2_model3, r2_model4]\n",
    "\n",
    "plt.bar(models, r2_scores)\n",
    "plt.ylabel('Mean Squared Error')\n",
    "plt.title('Model Comparison')\n",
    "plt.show()"
   ]
  },
  {
   "cell_type": "code",
   "execution_count": 50,
   "id": "0bc76ad7",
   "metadata": {
    "execution": {
     "iopub.execute_input": "2023-12-05T09:48:34.383961Z",
     "iopub.status.busy": "2023-12-05T09:48:34.383523Z",
     "iopub.status.idle": "2023-12-05T09:48:37.526042Z",
     "shell.execute_reply": "2023-12-05T09:48:37.524673Z"
    },
    "papermill": {
     "duration": 3.175016,
     "end_time": "2023-12-05T09:48:37.528732",
     "exception": false,
     "start_time": "2023-12-05T09:48:34.353716",
     "status": "completed"
    },
    "tags": []
   },
   "outputs": [],
   "source": [
    "y_pred=forest_reg.predict(dt)"
   ]
  },
  {
   "cell_type": "code",
   "execution_count": 51,
   "id": "e3f4e33c",
   "metadata": {
    "execution": {
     "iopub.execute_input": "2023-12-05T09:48:37.588427Z",
     "iopub.status.busy": "2023-12-05T09:48:37.587954Z",
     "iopub.status.idle": "2023-12-05T09:48:37.594816Z",
     "shell.execute_reply": "2023-12-05T09:48:37.593411Z"
    },
    "papermill": {
     "duration": 0.03956,
     "end_time": "2023-12-05T09:48:37.597036",
     "exception": false,
     "start_time": "2023-12-05T09:48:37.557476",
     "status": "completed"
    },
    "tags": []
   },
   "outputs": [
    {
     "name": "stdout",
     "output_type": "stream",
     "text": [
      "[38.00954545 26.88745455 17.01727273 ... 20.78181818 36.55836364\n",
      " 17.76454545]\n"
     ]
    }
   ],
   "source": [
    "print(y_pred)"
   ]
  },
  {
   "cell_type": "code",
   "execution_count": 52,
   "id": "3848381d",
   "metadata": {
    "execution": {
     "iopub.execute_input": "2023-12-05T09:48:37.657451Z",
     "iopub.status.busy": "2023-12-05T09:48:37.656952Z",
     "iopub.status.idle": "2023-12-05T09:48:37.928651Z",
     "shell.execute_reply": "2023-12-05T09:48:37.927562Z"
    },
    "papermill": {
     "duration": 0.305103,
     "end_time": "2023-12-05T09:48:37.931488",
     "exception": false,
     "start_time": "2023-12-05T09:48:37.626385",
     "status": "completed"
    },
    "tags": []
   },
   "outputs": [],
   "source": [
    "submission = pd.DataFrame(columns = [\"ID\",\"total_amount\"])\n",
    "submission[\"ID\"] = [i for i in range(1,len(y_pred)+1)]\n",
    "submission[\"total_amount\"] = y_pred\n",
    "submission.to_csv('submission.csv',index=False)"
   ]
  },
  {
   "cell_type": "code",
   "execution_count": null,
   "id": "27fab9de",
   "metadata": {
    "papermill": {
     "duration": 0.02877,
     "end_time": "2023-12-05T09:48:37.988975",
     "exception": false,
     "start_time": "2023-12-05T09:48:37.960205",
     "status": "completed"
    },
    "tags": []
   },
   "outputs": [],
   "source": []
  }
 ],
 "metadata": {
  "kaggle": {
   "accelerator": "none",
   "dataSources": [
    {
     "databundleVersionId": 6604167,
     "sourceId": 61246,
     "sourceType": "competition"
    }
   ],
   "dockerImageVersionId": 30558,
   "isGpuEnabled": false,
   "isInternetEnabled": true,
   "language": "python",
   "sourceType": "notebook"
  },
  "kernelspec": {
   "display_name": "Python 3",
   "language": "python",
   "name": "python3"
  },
  "language_info": {
   "codemirror_mode": {
    "name": "ipython",
    "version": 3
   },
   "file_extension": ".py",
   "mimetype": "text/x-python",
   "name": "python",
   "nbconvert_exporter": "python",
   "pygments_lexer": "ipython3",
   "version": "3.10.12"
  },
  "papermill": {
   "default_parameters": {},
   "duration": 102.94001,
   "end_time": "2023-12-05T09:48:38.941964",
   "environment_variables": {},
   "exception": null,
   "input_path": "__notebook__.ipynb",
   "output_path": "__notebook__.ipynb",
   "parameters": {},
   "start_time": "2023-12-05T09:46:56.001954",
   "version": "2.4.0"
  }
 },
 "nbformat": 4,
 "nbformat_minor": 5
}
